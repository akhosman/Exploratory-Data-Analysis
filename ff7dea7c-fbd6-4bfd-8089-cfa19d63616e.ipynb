{
 "cells": [
  {
   "cell_type": "markdown",
   "metadata": {},
   "source": [
    "# Research on car sales ads\n",
    "\n",
    "Hundreds of free advertisements for vehicles are published on the site of Crankshaft List every day. The goal of research to determine which factors influence the price of a vehicle, using the data collected over the last few years. "
   ]
  },
  {
   "cell_type": "code",
   "execution_count": 2,
   "metadata": {},
   "outputs": [],
   "source": [
    "import pandas as pd\n",
    "from matplotlib import pyplot as plt\n"
   ]
  },
  {
   "cell_type": "code",
   "execution_count": 3,
   "metadata": {},
   "outputs": [],
   "source": [
    "car_sales_df = pd.read_csv('/datasets/vehicles_us.csv', sep=',')"
   ]
  },
  {
   "cell_type": "markdown",
   "metadata": {},
   "source": [
    "Number of rows"
   ]
  },
  {
   "cell_type": "code",
   "execution_count": 4,
   "metadata": {},
   "outputs": [
    {
     "data": {
      "text/plain": [
       "51525"
      ]
     },
     "execution_count": 4,
     "metadata": {},
     "output_type": "execute_result"
    }
   ],
   "source": [
    "len(car_sales_df)"
   ]
  },
  {
   "cell_type": "code",
   "execution_count": 5,
   "metadata": {},
   "outputs": [
    {
     "data": {
      "text/html": [
       "<div>\n",
       "<style scoped>\n",
       "    .dataframe tbody tr th:only-of-type {\n",
       "        vertical-align: middle;\n",
       "    }\n",
       "\n",
       "    .dataframe tbody tr th {\n",
       "        vertical-align: top;\n",
       "    }\n",
       "\n",
       "    .dataframe thead th {\n",
       "        text-align: right;\n",
       "    }\n",
       "</style>\n",
       "<table border=\"1\" class=\"dataframe\">\n",
       "  <thead>\n",
       "    <tr style=\"text-align: right;\">\n",
       "      <th></th>\n",
       "      <th>price</th>\n",
       "      <th>model_year</th>\n",
       "      <th>model</th>\n",
       "      <th>condition</th>\n",
       "      <th>cylinders</th>\n",
       "      <th>fuel</th>\n",
       "      <th>odometer</th>\n",
       "      <th>transmission</th>\n",
       "      <th>type</th>\n",
       "      <th>paint_color</th>\n",
       "      <th>is_4wd</th>\n",
       "      <th>date_posted</th>\n",
       "      <th>days_listed</th>\n",
       "    </tr>\n",
       "  </thead>\n",
       "  <tbody>\n",
       "    <tr>\n",
       "      <td>0</td>\n",
       "      <td>9400</td>\n",
       "      <td>2011.0</td>\n",
       "      <td>bmw x5</td>\n",
       "      <td>good</td>\n",
       "      <td>6.0</td>\n",
       "      <td>gas</td>\n",
       "      <td>145000.0</td>\n",
       "      <td>automatic</td>\n",
       "      <td>SUV</td>\n",
       "      <td>NaN</td>\n",
       "      <td>1.0</td>\n",
       "      <td>2018-06-23</td>\n",
       "      <td>19</td>\n",
       "    </tr>\n",
       "    <tr>\n",
       "      <td>1</td>\n",
       "      <td>25500</td>\n",
       "      <td>NaN</td>\n",
       "      <td>ford f-150</td>\n",
       "      <td>good</td>\n",
       "      <td>6.0</td>\n",
       "      <td>gas</td>\n",
       "      <td>88705.0</td>\n",
       "      <td>automatic</td>\n",
       "      <td>pickup</td>\n",
       "      <td>white</td>\n",
       "      <td>1.0</td>\n",
       "      <td>2018-10-19</td>\n",
       "      <td>50</td>\n",
       "    </tr>\n",
       "    <tr>\n",
       "      <td>2</td>\n",
       "      <td>5500</td>\n",
       "      <td>2013.0</td>\n",
       "      <td>hyundai sonata</td>\n",
       "      <td>like new</td>\n",
       "      <td>4.0</td>\n",
       "      <td>gas</td>\n",
       "      <td>110000.0</td>\n",
       "      <td>automatic</td>\n",
       "      <td>sedan</td>\n",
       "      <td>red</td>\n",
       "      <td>NaN</td>\n",
       "      <td>2019-02-07</td>\n",
       "      <td>79</td>\n",
       "    </tr>\n",
       "    <tr>\n",
       "      <td>3</td>\n",
       "      <td>1500</td>\n",
       "      <td>2003.0</td>\n",
       "      <td>ford f-150</td>\n",
       "      <td>fair</td>\n",
       "      <td>8.0</td>\n",
       "      <td>gas</td>\n",
       "      <td>NaN</td>\n",
       "      <td>automatic</td>\n",
       "      <td>pickup</td>\n",
       "      <td>NaN</td>\n",
       "      <td>NaN</td>\n",
       "      <td>2019-03-22</td>\n",
       "      <td>9</td>\n",
       "    </tr>\n",
       "    <tr>\n",
       "      <td>4</td>\n",
       "      <td>14900</td>\n",
       "      <td>2017.0</td>\n",
       "      <td>chrysler 200</td>\n",
       "      <td>excellent</td>\n",
       "      <td>4.0</td>\n",
       "      <td>gas</td>\n",
       "      <td>80903.0</td>\n",
       "      <td>automatic</td>\n",
       "      <td>sedan</td>\n",
       "      <td>black</td>\n",
       "      <td>NaN</td>\n",
       "      <td>2019-04-02</td>\n",
       "      <td>28</td>\n",
       "    </tr>\n",
       "  </tbody>\n",
       "</table>\n",
       "</div>"
      ],
      "text/plain": [
       "   price  model_year           model  condition  cylinders fuel  odometer  \\\n",
       "0   9400      2011.0          bmw x5       good        6.0  gas  145000.0   \n",
       "1  25500         NaN      ford f-150       good        6.0  gas   88705.0   \n",
       "2   5500      2013.0  hyundai sonata   like new        4.0  gas  110000.0   \n",
       "3   1500      2003.0      ford f-150       fair        8.0  gas       NaN   \n",
       "4  14900      2017.0    chrysler 200  excellent        4.0  gas   80903.0   \n",
       "\n",
       "  transmission    type paint_color  is_4wd date_posted  days_listed  \n",
       "0    automatic     SUV         NaN     1.0  2018-06-23           19  \n",
       "1    automatic  pickup       white     1.0  2018-10-19           50  \n",
       "2    automatic   sedan         red     NaN  2019-02-07           79  \n",
       "3    automatic  pickup         NaN     NaN  2019-03-22            9  \n",
       "4    automatic   sedan       black     NaN  2019-04-02           28  "
      ]
     },
     "execution_count": 5,
     "metadata": {},
     "output_type": "execute_result"
    }
   ],
   "source": [
    "car_sales_df.head()"
   ]
  },
  {
   "cell_type": "code",
   "execution_count": 6,
   "metadata": {},
   "outputs": [
    {
     "data": {
      "text/html": [
       "<div>\n",
       "<style scoped>\n",
       "    .dataframe tbody tr th:only-of-type {\n",
       "        vertical-align: middle;\n",
       "    }\n",
       "\n",
       "    .dataframe tbody tr th {\n",
       "        vertical-align: top;\n",
       "    }\n",
       "\n",
       "    .dataframe thead th {\n",
       "        text-align: right;\n",
       "    }\n",
       "</style>\n",
       "<table border=\"1\" class=\"dataframe\">\n",
       "  <thead>\n",
       "    <tr style=\"text-align: right;\">\n",
       "      <th></th>\n",
       "      <th>price</th>\n",
       "      <th>model_year</th>\n",
       "      <th>model</th>\n",
       "      <th>condition</th>\n",
       "      <th>cylinders</th>\n",
       "      <th>fuel</th>\n",
       "      <th>odometer</th>\n",
       "      <th>transmission</th>\n",
       "      <th>type</th>\n",
       "      <th>paint_color</th>\n",
       "      <th>is_4wd</th>\n",
       "      <th>date_posted</th>\n",
       "      <th>days_listed</th>\n",
       "    </tr>\n",
       "  </thead>\n",
       "  <tbody>\n",
       "    <tr>\n",
       "      <td>15714</td>\n",
       "      <td>14798</td>\n",
       "      <td>2014.0</td>\n",
       "      <td>jeep grand cherokee</td>\n",
       "      <td>excellent</td>\n",
       "      <td>6.0</td>\n",
       "      <td>gas</td>\n",
       "      <td>86621.0</td>\n",
       "      <td>automatic</td>\n",
       "      <td>SUV</td>\n",
       "      <td>white</td>\n",
       "      <td>1.0</td>\n",
       "      <td>2018-06-11</td>\n",
       "      <td>70</td>\n",
       "    </tr>\n",
       "    <tr>\n",
       "      <td>29338</td>\n",
       "      <td>34595</td>\n",
       "      <td>2015.0</td>\n",
       "      <td>gmc yukon</td>\n",
       "      <td>excellent</td>\n",
       "      <td>NaN</td>\n",
       "      <td>gas</td>\n",
       "      <td>86456.0</td>\n",
       "      <td>automatic</td>\n",
       "      <td>SUV</td>\n",
       "      <td>silver</td>\n",
       "      <td>1.0</td>\n",
       "      <td>2018-05-02</td>\n",
       "      <td>20</td>\n",
       "    </tr>\n",
       "    <tr>\n",
       "      <td>29611</td>\n",
       "      <td>3150</td>\n",
       "      <td>1999.0</td>\n",
       "      <td>chevrolet silverado</td>\n",
       "      <td>good</td>\n",
       "      <td>8.0</td>\n",
       "      <td>gas</td>\n",
       "      <td>243000.0</td>\n",
       "      <td>manual</td>\n",
       "      <td>truck</td>\n",
       "      <td>silver</td>\n",
       "      <td>1.0</td>\n",
       "      <td>2018-06-06</td>\n",
       "      <td>37</td>\n",
       "    </tr>\n",
       "    <tr>\n",
       "      <td>6905</td>\n",
       "      <td>22975</td>\n",
       "      <td>2012.0</td>\n",
       "      <td>ram 2500</td>\n",
       "      <td>excellent</td>\n",
       "      <td>6.0</td>\n",
       "      <td>diesel</td>\n",
       "      <td>119546.0</td>\n",
       "      <td>automatic</td>\n",
       "      <td>pickup</td>\n",
       "      <td>white</td>\n",
       "      <td>1.0</td>\n",
       "      <td>2018-11-08</td>\n",
       "      <td>76</td>\n",
       "    </tr>\n",
       "    <tr>\n",
       "      <td>48089</td>\n",
       "      <td>2500</td>\n",
       "      <td>1996.0</td>\n",
       "      <td>ford f250 super duty</td>\n",
       "      <td>fair</td>\n",
       "      <td>8.0</td>\n",
       "      <td>diesel</td>\n",
       "      <td>325000.0</td>\n",
       "      <td>manual</td>\n",
       "      <td>truck</td>\n",
       "      <td>red</td>\n",
       "      <td>1.0</td>\n",
       "      <td>2019-02-08</td>\n",
       "      <td>15</td>\n",
       "    </tr>\n",
       "  </tbody>\n",
       "</table>\n",
       "</div>"
      ],
      "text/plain": [
       "       price  model_year                 model  condition  cylinders    fuel  \\\n",
       "15714  14798      2014.0   jeep grand cherokee  excellent        6.0     gas   \n",
       "29338  34595      2015.0             gmc yukon  excellent        NaN     gas   \n",
       "29611   3150      1999.0   chevrolet silverado       good        8.0     gas   \n",
       "6905   22975      2012.0              ram 2500  excellent        6.0  diesel   \n",
       "48089   2500      1996.0  ford f250 super duty       fair        8.0  diesel   \n",
       "\n",
       "       odometer transmission    type paint_color  is_4wd date_posted  \\\n",
       "15714   86621.0    automatic     SUV       white     1.0  2018-06-11   \n",
       "29338   86456.0    automatic     SUV      silver     1.0  2018-05-02   \n",
       "29611  243000.0       manual   truck      silver     1.0  2018-06-06   \n",
       "6905   119546.0    automatic  pickup       white     1.0  2018-11-08   \n",
       "48089  325000.0       manual   truck         red     1.0  2019-02-08   \n",
       "\n",
       "       days_listed  \n",
       "15714           70  \n",
       "29338           20  \n",
       "29611           37  \n",
       "6905            76  \n",
       "48089           15  "
      ]
     },
     "execution_count": 6,
     "metadata": {},
     "output_type": "execute_result"
    }
   ],
   "source": [
    "car_sales_df.sample(5)"
   ]
  },
  {
   "cell_type": "code",
   "execution_count": 7,
   "metadata": {},
   "outputs": [
    {
     "data": {
      "text/html": [
       "<div>\n",
       "<style scoped>\n",
       "    .dataframe tbody tr th:only-of-type {\n",
       "        vertical-align: middle;\n",
       "    }\n",
       "\n",
       "    .dataframe tbody tr th {\n",
       "        vertical-align: top;\n",
       "    }\n",
       "\n",
       "    .dataframe thead th {\n",
       "        text-align: right;\n",
       "    }\n",
       "</style>\n",
       "<table border=\"1\" class=\"dataframe\">\n",
       "  <thead>\n",
       "    <tr style=\"text-align: right;\">\n",
       "      <th></th>\n",
       "      <th>price</th>\n",
       "      <th>model_year</th>\n",
       "      <th>cylinders</th>\n",
       "      <th>odometer</th>\n",
       "      <th>is_4wd</th>\n",
       "      <th>days_listed</th>\n",
       "    </tr>\n",
       "  </thead>\n",
       "  <tbody>\n",
       "    <tr>\n",
       "      <td>count</td>\n",
       "      <td>51525.000000</td>\n",
       "      <td>47906.000000</td>\n",
       "      <td>46265.000000</td>\n",
       "      <td>43633.000000</td>\n",
       "      <td>25572.0</td>\n",
       "      <td>51525.00000</td>\n",
       "    </tr>\n",
       "    <tr>\n",
       "      <td>mean</td>\n",
       "      <td>12132.464920</td>\n",
       "      <td>2009.750470</td>\n",
       "      <td>6.125235</td>\n",
       "      <td>115553.461738</td>\n",
       "      <td>1.0</td>\n",
       "      <td>39.55476</td>\n",
       "    </tr>\n",
       "    <tr>\n",
       "      <td>std</td>\n",
       "      <td>10040.803015</td>\n",
       "      <td>6.282065</td>\n",
       "      <td>1.660360</td>\n",
       "      <td>65094.611341</td>\n",
       "      <td>0.0</td>\n",
       "      <td>28.20427</td>\n",
       "    </tr>\n",
       "    <tr>\n",
       "      <td>min</td>\n",
       "      <td>1.000000</td>\n",
       "      <td>1908.000000</td>\n",
       "      <td>3.000000</td>\n",
       "      <td>0.000000</td>\n",
       "      <td>1.0</td>\n",
       "      <td>0.00000</td>\n",
       "    </tr>\n",
       "    <tr>\n",
       "      <td>25%</td>\n",
       "      <td>5000.000000</td>\n",
       "      <td>2006.000000</td>\n",
       "      <td>4.000000</td>\n",
       "      <td>70000.000000</td>\n",
       "      <td>1.0</td>\n",
       "      <td>19.00000</td>\n",
       "    </tr>\n",
       "    <tr>\n",
       "      <td>50%</td>\n",
       "      <td>9000.000000</td>\n",
       "      <td>2011.000000</td>\n",
       "      <td>6.000000</td>\n",
       "      <td>113000.000000</td>\n",
       "      <td>1.0</td>\n",
       "      <td>33.00000</td>\n",
       "    </tr>\n",
       "    <tr>\n",
       "      <td>75%</td>\n",
       "      <td>16839.000000</td>\n",
       "      <td>2014.000000</td>\n",
       "      <td>8.000000</td>\n",
       "      <td>155000.000000</td>\n",
       "      <td>1.0</td>\n",
       "      <td>53.00000</td>\n",
       "    </tr>\n",
       "    <tr>\n",
       "      <td>max</td>\n",
       "      <td>375000.000000</td>\n",
       "      <td>2019.000000</td>\n",
       "      <td>12.000000</td>\n",
       "      <td>990000.000000</td>\n",
       "      <td>1.0</td>\n",
       "      <td>271.00000</td>\n",
       "    </tr>\n",
       "  </tbody>\n",
       "</table>\n",
       "</div>"
      ],
      "text/plain": [
       "               price    model_year     cylinders       odometer   is_4wd  \\\n",
       "count   51525.000000  47906.000000  46265.000000   43633.000000  25572.0   \n",
       "mean    12132.464920   2009.750470      6.125235  115553.461738      1.0   \n",
       "std     10040.803015      6.282065      1.660360   65094.611341      0.0   \n",
       "min         1.000000   1908.000000      3.000000       0.000000      1.0   \n",
       "25%      5000.000000   2006.000000      4.000000   70000.000000      1.0   \n",
       "50%      9000.000000   2011.000000      6.000000  113000.000000      1.0   \n",
       "75%     16839.000000   2014.000000      8.000000  155000.000000      1.0   \n",
       "max    375000.000000   2019.000000     12.000000  990000.000000      1.0   \n",
       "\n",
       "       days_listed  \n",
       "count  51525.00000  \n",
       "mean      39.55476  \n",
       "std       28.20427  \n",
       "min        0.00000  \n",
       "25%       19.00000  \n",
       "50%       33.00000  \n",
       "75%       53.00000  \n",
       "max      271.00000  "
      ]
     },
     "execution_count": 7,
     "metadata": {},
     "output_type": "execute_result"
    }
   ],
   "source": [
    "car_sales_df.describe()"
   ]
  },
  {
   "cell_type": "code",
   "execution_count": 8,
   "metadata": {},
   "outputs": [
    {
     "name": "stdout",
     "output_type": "stream",
     "text": [
      "<class 'pandas.core.frame.DataFrame'>\n",
      "RangeIndex: 51525 entries, 0 to 51524\n",
      "Data columns (total 13 columns):\n",
      "price           51525 non-null int64\n",
      "model_year      47906 non-null float64\n",
      "model           51525 non-null object\n",
      "condition       51525 non-null object\n",
      "cylinders       46265 non-null float64\n",
      "fuel            51525 non-null object\n",
      "odometer        43633 non-null float64\n",
      "transmission    51525 non-null object\n",
      "type            51525 non-null object\n",
      "paint_color     42258 non-null object\n",
      "is_4wd          25572 non-null float64\n",
      "date_posted     51525 non-null object\n",
      "days_listed     51525 non-null int64\n",
      "dtypes: float64(4), int64(2), object(7)\n",
      "memory usage: 5.1+ MB\n"
     ]
    }
   ],
   "source": [
    "car_sales_df.info()"
   ]
  },
  {
   "cell_type": "markdown",
   "metadata": {},
   "source": [
    "Checking on NAs"
   ]
  },
  {
   "cell_type": "markdown",
   "metadata": {},
   "source": [
    "\n",
    "Percentage of NAs"
   ]
  },
  {
   "cell_type": "code",
   "execution_count": 9,
   "metadata": {},
   "outputs": [
    {
     "data": {
      "text/plain": [
       "price            0.000000\n",
       "model_year       7.023775\n",
       "model            0.000000\n",
       "condition        0.000000\n",
       "cylinders       10.208637\n",
       "fuel             0.000000\n",
       "odometer        15.316836\n",
       "transmission     0.000000\n",
       "type             0.000000\n",
       "paint_color     17.985444\n",
       "is_4wd          50.369723\n",
       "date_posted      0.000000\n",
       "days_listed      0.000000\n",
       "dtype: float64"
      ]
     },
     "execution_count": 9,
     "metadata": {},
     "output_type": "execute_result"
    }
   ],
   "source": [
    "100*car_sales_df.isnull().sum()/car_sales_df.shape[0]"
   ]
  },
  {
   "cell_type": "markdown",
   "metadata": {},
   "source": [
    "We see here is_4wd is the column with the most missing values."
   ]
  },
  {
   "cell_type": "code",
   "execution_count": 10,
   "metadata": {},
   "outputs": [],
   "source": [
    "car_sales_missing = car_sales_df.isna().sum()"
   ]
  },
  {
   "cell_type": "markdown",
   "metadata": {},
   "source": [
    "The total number of missing values for each column:"
   ]
  },
  {
   "cell_type": "code",
   "execution_count": 11,
   "metadata": {},
   "outputs": [
    {
     "data": {
      "text/plain": [
       "price               0\n",
       "model_year       3619\n",
       "model               0\n",
       "condition           0\n",
       "cylinders        5260\n",
       "fuel                0\n",
       "odometer         7892\n",
       "transmission        0\n",
       "type                0\n",
       "paint_color      9267\n",
       "is_4wd          25953\n",
       "date_posted         0\n",
       "days_listed         0\n",
       "dtype: int64"
      ]
     },
     "execution_count": 11,
     "metadata": {},
     "output_type": "execute_result"
    }
   ],
   "source": [
    "car_sales_missing"
   ]
  },
  {
   "cell_type": "markdown",
   "metadata": {},
   "source": [
    "### Conclusion"
   ]
  },
  {
   "cell_type": "markdown",
   "metadata": {},
   "source": [
    "The table consists of 13 columns and 51525 lines. Data contains columns with null values: model_year, cylinders, odometer, paint_color, is_4wd. Missing values in the column is_4wd are 50%. The part of the columns have data type float, that is requered convertion."
   ]
  },
  {
   "cell_type": "markdown",
   "metadata": {},
   "source": [
    "## Data preprocessing"
   ]
  },
  {
   "cell_type": "code",
   "execution_count": 12,
   "metadata": {},
   "outputs": [
    {
     "name": "stdout",
     "output_type": "stream",
     "text": [
      "Grouping model per model_year to find correlations between the model and the year.\n",
      "\n",
      "model\n",
      "acura tl             2005.0\n",
      "bmw x5               2012.0\n",
      "buick enclave        2012.0\n",
      "cadillac escalade    2007.0\n",
      "chevrolet camaro     2014.0\n",
      "                      ...  \n",
      "toyota sienna        2004.0\n",
      "toyota tacoma        2015.0\n",
      "toyota tundra        2007.0\n",
      "volkswagen jetta     2012.0\n",
      "volkswagen passat    2013.0\n",
      "Name: model_year, Length: 100, dtype: float64\n",
      "\n",
      "\n",
      "The dictionary I created with model and model_year look like this:\n",
      "{'acura tl': 2005.0, 'bmw x5': 2012.0, 'buick enclave': 2012.0, 'cadillac escalade': 2007.0, 'chevrolet camaro': 2014.0, 'chevrolet camaro lt coupe 2d': 2017.0, 'chevrolet colorado': 2016.0, 'chevrolet corvette': 2006.0, 'chevrolet cruze': 2014.0, 'chevrolet equinox': 2013.0, 'chevrolet impala': 2008.0, 'chevrolet malibu': 2013.0, 'chevrolet silverado': 2008.0, 'chevrolet silverado 1500': 2014.0, 'chevrolet silverado 1500 crew': 2018.0, 'chevrolet silverado 2500hd': 2006.0, 'chevrolet silverado 3500hd': 2013.0, 'chevrolet suburban': 2007.0, 'chevrolet tahoe': 2007.0, 'chevrolet trailblazer': 2005.0, 'chevrolet traverse': 2011.0, 'chrysler 200': 2015.0, 'chrysler 300': 2013.0, 'chrysler town & country': 2013.0, 'dodge charger': 2014.0, 'dodge dakota': 2005.0, 'dodge grand caravan': 2016.0, 'ford econoline': 2016.0, 'ford edge': 2013.0, 'ford escape': 2008.0, 'ford expedition': 2011.0, 'ford explorer': 2013.0, 'ford f-150': 2013.0, 'ford f-250': 2006.0, 'ford f-250 sd': 2015.0, 'ford f-250 super duty': 2004.0, 'ford f-350 sd': 2015.0, 'ford f150': 2013.0, 'ford f150 supercrew cab xlt': 2014.0, 'ford f250': 2008.0, 'ford f250 super duty': 2008.0, 'ford f350': 2012.0, 'ford f350 super duty': 2008.0, 'ford focus': 2014.0, 'ford focus se': 2012.0, 'ford fusion': 2015.0, 'ford fusion se': 2012.0, 'ford mustang': 2006.0, 'ford mustang gt coupe 2d': 2017.0, 'ford ranger': 2011.0, 'ford taurus': 2005.0, 'gmc acadia': 2012.0, 'gmc sierra': 2008.0, 'gmc sierra 1500': 2011.0, 'gmc sierra 2500hd': 2003.0, 'gmc yukon': 2007.0, 'honda accord': 2007.0, 'honda civic': 2012.0, 'honda civic lx': 2012.0, 'honda cr-v': 2013.0, 'honda odyssey': 2007.0, 'honda pilot': 2011.0, 'hyundai elantra': 2017.0, 'hyundai santa fe': 2007.0, 'hyundai sonata': 2011.0, 'jeep cherokee': 2014.0, 'jeep grand cherokee': 2015.0, 'jeep grand cherokee laredo': 2007.0, 'jeep liberty': 2012.0, 'jeep wrangler': 2012.0, 'jeep wrangler unlimited': 2015.0, 'kia sorento': 2011.0, 'kia soul': 2016.0, 'mercedes-benz benze sprinter 2500': 2013.0, 'nissan altima': 2015.0, 'nissan frontier': 2018.0, 'nissan frontier crew cab sv': 2018.0, 'nissan maxima': 2014.0, 'nissan murano': 2009.0, 'nissan rogue': 2016.0, 'nissan sentra': 2017.0, 'nissan versa': 2014.0, 'ram 1500': 2015.0, 'ram 2500': 2014.0, 'ram 3500': 2016.0, 'subaru forester': 2010.0, 'subaru impreza': 2011.0, 'subaru outback': 2011.0, 'toyota 4runner': 2008.0, 'toyota camry': 2009.0, 'toyota camry le': 2009.0, 'toyota corolla': 2010.0, 'toyota highlander': 2008.0, 'toyota prius': 2010.0, 'toyota rav4': 2007.0, 'toyota sienna': 2004.0, 'toyota tacoma': 2015.0, 'toyota tundra': 2007.0, 'volkswagen jetta': 2012.0, 'volkswagen passat': 2013.0}\n",
      "\n",
      "\n",
      "New \"model_year\" column after replacing missing values is:\n",
      "2013.0    7678\n",
      "2014.0    6490\n",
      "2015.0    6156\n",
      "2007.0    4942\n",
      "2008.0    4916\n",
      "2012.0    4858\n",
      "2011.0    3833\n",
      "2006.0    2517\n",
      "2016.0    2473\n",
      "2010.0    1616\n",
      "2009.0    1541\n",
      "2017.0    1532\n",
      "2005.0    1036\n",
      "2018.0     929\n",
      "2004.0     570\n",
      "2003.0     438\n",
      "Name: model_year, dtype: int64\n",
      "51525\n"
     ]
    }
   ],
   "source": [
    "#Working on 'model_years' missing values. I decided here to work with dictionaries\n",
    "print('Grouping model per model_year to find correlations between the model and the year.')\n",
    "print('')\n",
    "model_grouped_year = car_sales_df.groupby('model')['model_year'].agg(lambda x: x.value_counts().index[0])\n",
    "print(model_grouped_year)\n",
    "models_keys = list(model_grouped_year.index)\n",
    "year_values = list(model_grouped_year) \n",
    "dictionary_model = {models_keys[i]: year_values[i] for i in range(len(models_keys))}\n",
    "print('')\n",
    "print('')\n",
    "print('The dictionary I created with model and model_year look like this:')\n",
    "print(dictionary_model)\n",
    "for i, val in car_sales_df['model'].iteritems():\n",
    "    car_sales_df.loc[i,'model_year'] = dictionary_model[val]\n",
    "print('')\n",
    "print('')\n",
    "print('New \"model_year\" column after replacing missing values is:')\n",
    "print(car_sales_df['model_year'].value_counts())\n",
    "print(car_sales_df['model_year'].value_counts().sum())"
   ]
  },
  {
   "cell_type": "code",
   "execution_count": 13,
   "metadata": {},
   "outputs": [
    {
     "name": "stdout",
     "output_type": "stream",
     "text": [
      "New \"cylinders\" column after replacing missing values is:\n",
      "\n",
      "6.0     20960\n",
      "8.0     15844\n",
      "4.0     13864\n",
      "10.0      549\n",
      "5.0       272\n",
      "3.0        34\n",
      "12.0        2\n",
      "Name: cylinders, dtype: int64\n"
     ]
    }
   ],
   "source": [
    "#Working on 'cylinders' missing values. (mean is 6.1252, median is 6 since the column should be integers I am going to choose median.)\n",
    "cylinders_median = car_sales_df['cylinders'].median()\n",
    "car_sales_df['cylinders'] = car_sales_df['cylinders'].fillna(cylinders_median)\n",
    "print('New \"cylinders\" column after replacing missing values is:')\n",
    "print('')\n",
    "print(car_sales_df['cylinders'].value_counts())"
   ]
  },
  {
   "cell_type": "code",
   "execution_count": 14,
   "metadata": {},
   "outputs": [
    {
     "name": "stdout",
     "output_type": "stream",
     "text": [
      "New \"odometer\" column after replacing missing values is:\n",
      "\n",
      "113000.0    7992\n",
      "0.0          185\n",
      "140000.0     183\n",
      "120000.0     179\n",
      "130000.0     178\n",
      "            ... \n",
      "51595.0        1\n",
      "111381.0       1\n",
      "155940.0       1\n",
      "43402.0        1\n",
      "74063.0        1\n",
      "Name: odometer, Length: 17762, dtype: int64\n"
     ]
    }
   ],
   "source": [
    "#Working on 'odometer' missing values.\n",
    "odometer_median = car_sales_df['odometer'].median()\n",
    "car_sales_df['odometer'] = car_sales_df['odometer'].fillna(odometer_median)\n",
    "print('New \"odometer\" column after replacing missing values is:')\n",
    "print('')\n",
    "print(car_sales_df['odometer'].value_counts())"
   ]
  },
  {
   "cell_type": "code",
   "execution_count": 15,
   "metadata": {},
   "outputs": [
    {
     "name": "stdout",
     "output_type": "stream",
     "text": [
      "New \"paint_color\" column after replacing missing values is:\n",
      "\n",
      "white            10029\n",
      "not_specified     9267\n",
      "black             7692\n",
      "silver            6244\n",
      "grey              5037\n",
      "blue              4475\n",
      "red               4421\n",
      "green             1396\n",
      "brown             1223\n",
      "custom            1153\n",
      "yellow             255\n",
      "orange             231\n",
      "purple             102\n",
      "Name: paint_color, dtype: int64\n"
     ]
    }
   ],
   "source": [
    "#Working on 'paint_color' missing values.\n",
    "car_sales_df['paint_color'] = car_sales_df['paint_color'].fillna(value=\"not_specified\")\n",
    "print('New \"paint_color\" column after replacing missing values is:')\n",
    "print('')\n",
    "print(car_sales_df['paint_color'].value_counts())"
   ]
  },
  {
   "cell_type": "code",
   "execution_count": 16,
   "metadata": {},
   "outputs": [
    {
     "name": "stdout",
     "output_type": "stream",
     "text": [
      "New \"is_4wd\" column after replacing missing values is:\n",
      "\n",
      "0.0    25953\n",
      "1.0    25572\n",
      "Name: is_4wd, dtype: int64\n"
     ]
    }
   ],
   "source": [
    "#Working on 'is_4wd' missing values.\n",
    "car_sales_df['is_4wd'] = car_sales_df['is_4wd'].fillna(value=0)\n",
    "print('New \"is_4wd\" column after replacing missing values is:')\n",
    "print('')\n",
    "print(car_sales_df['is_4wd'].value_counts())"
   ]
  },
  {
   "cell_type": "code",
   "execution_count": 17,
   "metadata": {},
   "outputs": [
    {
     "data": {
      "text/plain": [
       "price             int64\n",
       "model_year      float64\n",
       "model            object\n",
       "condition        object\n",
       "cylinders       float64\n",
       "fuel             object\n",
       "odometer        float64\n",
       "transmission     object\n",
       "type             object\n",
       "paint_color      object\n",
       "is_4wd          float64\n",
       "date_posted      object\n",
       "days_listed       int64\n",
       "dtype: object"
      ]
     },
     "execution_count": 17,
     "metadata": {},
     "output_type": "execute_result"
    }
   ],
   "source": [
    "car_sales_df.dtypes"
   ]
  },
  {
   "cell_type": "markdown",
   "metadata": {},
   "source": [
    "Columns that require data type conversion: model_year - float to int (year is a whole number) cylinders - float to int odometer - float to int is_4wd - float to boolean (can contain only 2 values, so boolean is appropriate) date_posted - object to datetime - obviously, for convenience"
   ]
  },
  {
   "cell_type": "code",
   "execution_count": 18,
   "metadata": {},
   "outputs": [],
   "source": [
    "#filling NaN values with 0.0 and converting values of column is_4wd to boolean\n",
    "car_sales_df['is_4wd'] = car_sales_df['is_4wd'].fillna(0.0)\n",
    "car_sales_df['is_4wd'] = car_sales_df['is_4wd'].astype('bool')"
   ]
  },
  {
   "cell_type": "code",
   "execution_count": 19,
   "metadata": {},
   "outputs": [],
   "source": [
    "#converting date_posted\n",
    "car_sales_df['date_posted'] = pd.to_datetime(car_sales_df['date_posted'], format='%Y-%m-%d')"
   ]
  },
  {
   "cell_type": "code",
   "execution_count": 20,
   "metadata": {},
   "outputs": [],
   "source": [
    "#dropping missing values\n",
    "car_sales_df.dropna(inplace=True)"
   ]
  },
  {
   "cell_type": "code",
   "execution_count": 21,
   "metadata": {},
   "outputs": [],
   "source": [
    "#converting data types\n",
    "for col in ['model_year', 'cylinders', 'odometer']:\n",
    "    car_sales_df[col] = car_sales_df[col].astype(int)"
   ]
  },
  {
   "cell_type": "code",
   "execution_count": 22,
   "metadata": {},
   "outputs": [
    {
     "data": {
      "text/plain": [
       "price                    int64\n",
       "model_year               int64\n",
       "model                   object\n",
       "condition               object\n",
       "cylinders                int64\n",
       "fuel                    object\n",
       "odometer                 int64\n",
       "transmission            object\n",
       "type                    object\n",
       "paint_color             object\n",
       "is_4wd                    bool\n",
       "date_posted     datetime64[ns]\n",
       "days_listed              int64\n",
       "dtype: object"
      ]
     },
     "execution_count": 22,
     "metadata": {},
     "output_type": "execute_result"
    }
   ],
   "source": [
    "car_sales_df.dtypes"
   ]
  },
  {
   "cell_type": "code",
   "execution_count": 23,
   "metadata": {},
   "outputs": [
    {
     "name": "stdout",
     "output_type": "stream",
     "text": [
      "<class 'pandas.core.frame.DataFrame'>\n",
      "Int64Index: 51525 entries, 0 to 51524\n",
      "Data columns (total 13 columns):\n",
      "price           51525 non-null int64\n",
      "model_year      51525 non-null int64\n",
      "model           51525 non-null object\n",
      "condition       51525 non-null object\n",
      "cylinders       51525 non-null int64\n",
      "fuel            51525 non-null object\n",
      "odometer        51525 non-null int64\n",
      "transmission    51525 non-null object\n",
      "type            51525 non-null object\n",
      "paint_color     51525 non-null object\n",
      "is_4wd          51525 non-null bool\n",
      "date_posted     51525 non-null datetime64[ns]\n",
      "days_listed     51525 non-null int64\n",
      "dtypes: bool(1), datetime64[ns](1), int64(5), object(6)\n",
      "memory usage: 5.2+ MB\n"
     ]
    }
   ],
   "source": [
    "car_sales_df.info()"
   ]
  },
  {
   "cell_type": "code",
   "execution_count": null,
   "metadata": {},
   "outputs": [],
   "source": [
    "df['odometer'] = df['odometer'].fillna(df.groupby('model_year')['odometer'].transform('median'))"
   ]
  },
  {
   "cell_type": "markdown",
   "metadata": {},
   "source": [
    "The rows of model_year and cylinders contain information from the technical passport of the vehicles and not always the person who publishes the advertisement for the sale of the vehicle has this document at hand. Perhaps this is why these columns have missing values.\n",
    "\n",
    "There are also missing values in the odometer column in our table, probably due to the fact that the odometer is too huge, while the rest of the vehicle is in excellent condition, and thus the advertiser does not want to weed out some potential buyers in advance, and will provide this information upon request. Another reason that there are missing values in the odometer column may be that the advertiser publishing the advertisement is not near the vehicle and cannot check the exact odometer data.\n",
    "\n",
    "In the column is_4wd, all filled lines indicate 1, that is, a vehicle with four-wheel drive, the lines remain empty, which obviously indicates that the vehicle does not have four-wheel drive and the values can be filled in with 0.\n",
    "\n",
    "The appearance of missing values in the painted_color column, in our opinion, is the most difficult to explain. Possible reasons may be as follows: the column was accidentally missed, the advertiser does not consider the color of the vehicle as an essential parameter, it is possible that a photo is attached to the ad and the color is visible on it, it can also be assumed that the advertiser found it difficult to indicate the color in accordance with the technical passport of the vehicle.\n",
    "\n",
    "We believe that it is inappropriate to fill in the missing values for columns: model_year, cylinders, odometer, paint_color with any of the available ones, because it is difficult to guess what these values might be. For example, the color of the vehicles can be both common and rare or single. Or odometer indicator may be any and etc. We dropped lines with missing values. We filled missing values in the column is_4wd with 0 because it is obviously that this data has only two values 0 or 1 and converted datato boolean type. All values have data types int or object, excluding date_posted which was converted to datetime64 and is_4wd - to bool."
   ]
  },
  {
   "cell_type": "markdown",
   "metadata": {},
   "source": [
    "## Make calculations and add them to the table"
   ]
  },
  {
   "cell_type": "code",
   "execution_count": 23,
   "metadata": {},
   "outputs": [],
   "source": [
    "#Adding day of week, month and year columns(when the ad was placed)\n",
    "car_sales_df['weekday'] = car_sales_df['date_posted'].dt.weekday\n",
    "car_sales_df['month'] = car_sales_df['date_posted'].dt.month\n",
    "car_sales_df['year'] = car_sales_df['date_posted'].dt.year"
   ]
  },
  {
   "cell_type": "code",
   "execution_count": 24,
   "metadata": {},
   "outputs": [],
   "source": [
    "#Adding vehicle_age column\n",
    "car_sales_df['vehicle_age'] = car_sales_df['year'] - car_sales_df['model_year'] + 1"
   ]
  },
  {
   "cell_type": "code",
   "execution_count": 25,
   "metadata": {},
   "outputs": [],
   "source": [
    "#Adding mileage per year column\n",
    "car_sales_df['mileage_per_year'] = car_sales_df['odometer'] // car_sales_df['vehicle_age']"
   ]
  },
  {
   "cell_type": "code",
   "execution_count": 26,
   "metadata": {},
   "outputs": [
    {
     "name": "stdout",
     "output_type": "stream",
     "text": [
      "<class 'pandas.core.frame.DataFrame'>\n",
      "Int64Index: 51525 entries, 0 to 51524\n",
      "Data columns (total 18 columns):\n",
      "price               51525 non-null int64\n",
      "model_year          51525 non-null int64\n",
      "model               51525 non-null object\n",
      "condition           51525 non-null object\n",
      "cylinders           51525 non-null int64\n",
      "fuel                51525 non-null object\n",
      "odometer            51525 non-null int64\n",
      "transmission        51525 non-null object\n",
      "type                51525 non-null object\n",
      "paint_color         51525 non-null object\n",
      "is_4wd              51525 non-null bool\n",
      "date_posted         51525 non-null datetime64[ns]\n",
      "days_listed         51525 non-null int64\n",
      "weekday             51525 non-null int64\n",
      "month               51525 non-null int64\n",
      "year                51525 non-null int64\n",
      "vehicle_age         51525 non-null int64\n",
      "mileage_per_year    51525 non-null int64\n",
      "dtypes: bool(1), datetime64[ns](1), int64(10), object(6)\n",
      "memory usage: 7.1+ MB\n"
     ]
    }
   ],
   "source": [
    "car_sales_df.info()"
   ]
  },
  {
   "cell_type": "markdown",
   "metadata": {},
   "source": [
    "\n",
    "In the condition column, replacing string values with a numeric scale:"
   ]
  },
  {
   "cell_type": "code",
   "execution_count": 27,
   "metadata": {},
   "outputs": [],
   "source": [
    "#function fo replace:\n",
    "def condition_to_numeric(condition):\n",
    "    if condition == 'new':\n",
    "        return 5\n",
    "    if condition == 'like new':\n",
    "        return 4\n",
    "    if condition == 'excellent':\n",
    "        return 3\n",
    "    if condition == 'good':\n",
    "        return 2\n",
    "    if condition == 'fair':\n",
    "        return 1\n",
    "    if condition == 'salvage':\n",
    "        return 0"
   ]
  },
  {
   "cell_type": "code",
   "execution_count": 28,
   "metadata": {},
   "outputs": [],
   "source": [
    "#applying function:\n",
    "car_sales_df['condition'] = car_sales_df['condition'].apply(condition_to_numeric)"
   ]
  },
  {
   "cell_type": "code",
   "execution_count": 29,
   "metadata": {
    "scrolled": true
   },
   "outputs": [
    {
     "data": {
      "text/html": [
       "<div>\n",
       "<style scoped>\n",
       "    .dataframe tbody tr th:only-of-type {\n",
       "        vertical-align: middle;\n",
       "    }\n",
       "\n",
       "    .dataframe tbody tr th {\n",
       "        vertical-align: top;\n",
       "    }\n",
       "\n",
       "    .dataframe thead th {\n",
       "        text-align: right;\n",
       "    }\n",
       "</style>\n",
       "<table border=\"1\" class=\"dataframe\">\n",
       "  <thead>\n",
       "    <tr style=\"text-align: right;\">\n",
       "      <th></th>\n",
       "      <th>price</th>\n",
       "      <th>model_year</th>\n",
       "      <th>model</th>\n",
       "      <th>condition</th>\n",
       "      <th>cylinders</th>\n",
       "      <th>fuel</th>\n",
       "      <th>odometer</th>\n",
       "      <th>transmission</th>\n",
       "      <th>type</th>\n",
       "      <th>paint_color</th>\n",
       "      <th>is_4wd</th>\n",
       "      <th>date_posted</th>\n",
       "      <th>days_listed</th>\n",
       "      <th>weekday</th>\n",
       "      <th>month</th>\n",
       "      <th>year</th>\n",
       "      <th>vehicle_age</th>\n",
       "      <th>mileage_per_year</th>\n",
       "    </tr>\n",
       "  </thead>\n",
       "  <tbody>\n",
       "    <tr>\n",
       "      <td>0</td>\n",
       "      <td>9400</td>\n",
       "      <td>2012</td>\n",
       "      <td>bmw x5</td>\n",
       "      <td>2</td>\n",
       "      <td>6</td>\n",
       "      <td>gas</td>\n",
       "      <td>145000</td>\n",
       "      <td>automatic</td>\n",
       "      <td>SUV</td>\n",
       "      <td>not_specified</td>\n",
       "      <td>True</td>\n",
       "      <td>2018-06-23</td>\n",
       "      <td>19</td>\n",
       "      <td>5</td>\n",
       "      <td>6</td>\n",
       "      <td>2018</td>\n",
       "      <td>7</td>\n",
       "      <td>20714</td>\n",
       "    </tr>\n",
       "    <tr>\n",
       "      <td>1</td>\n",
       "      <td>25500</td>\n",
       "      <td>2013</td>\n",
       "      <td>ford f-150</td>\n",
       "      <td>2</td>\n",
       "      <td>6</td>\n",
       "      <td>gas</td>\n",
       "      <td>88705</td>\n",
       "      <td>automatic</td>\n",
       "      <td>pickup</td>\n",
       "      <td>white</td>\n",
       "      <td>True</td>\n",
       "      <td>2018-10-19</td>\n",
       "      <td>50</td>\n",
       "      <td>4</td>\n",
       "      <td>10</td>\n",
       "      <td>2018</td>\n",
       "      <td>6</td>\n",
       "      <td>14784</td>\n",
       "    </tr>\n",
       "    <tr>\n",
       "      <td>2</td>\n",
       "      <td>5500</td>\n",
       "      <td>2011</td>\n",
       "      <td>hyundai sonata</td>\n",
       "      <td>4</td>\n",
       "      <td>4</td>\n",
       "      <td>gas</td>\n",
       "      <td>110000</td>\n",
       "      <td>automatic</td>\n",
       "      <td>sedan</td>\n",
       "      <td>red</td>\n",
       "      <td>False</td>\n",
       "      <td>2019-02-07</td>\n",
       "      <td>79</td>\n",
       "      <td>3</td>\n",
       "      <td>2</td>\n",
       "      <td>2019</td>\n",
       "      <td>9</td>\n",
       "      <td>12222</td>\n",
       "    </tr>\n",
       "    <tr>\n",
       "      <td>3</td>\n",
       "      <td>1500</td>\n",
       "      <td>2013</td>\n",
       "      <td>ford f-150</td>\n",
       "      <td>1</td>\n",
       "      <td>8</td>\n",
       "      <td>gas</td>\n",
       "      <td>113000</td>\n",
       "      <td>automatic</td>\n",
       "      <td>pickup</td>\n",
       "      <td>not_specified</td>\n",
       "      <td>False</td>\n",
       "      <td>2019-03-22</td>\n",
       "      <td>9</td>\n",
       "      <td>4</td>\n",
       "      <td>3</td>\n",
       "      <td>2019</td>\n",
       "      <td>7</td>\n",
       "      <td>16142</td>\n",
       "    </tr>\n",
       "    <tr>\n",
       "      <td>4</td>\n",
       "      <td>14900</td>\n",
       "      <td>2015</td>\n",
       "      <td>chrysler 200</td>\n",
       "      <td>3</td>\n",
       "      <td>4</td>\n",
       "      <td>gas</td>\n",
       "      <td>80903</td>\n",
       "      <td>automatic</td>\n",
       "      <td>sedan</td>\n",
       "      <td>black</td>\n",
       "      <td>False</td>\n",
       "      <td>2019-04-02</td>\n",
       "      <td>28</td>\n",
       "      <td>1</td>\n",
       "      <td>4</td>\n",
       "      <td>2019</td>\n",
       "      <td>5</td>\n",
       "      <td>16180</td>\n",
       "    </tr>\n",
       "  </tbody>\n",
       "</table>\n",
       "</div>"
      ],
      "text/plain": [
       "   price  model_year           model  condition  cylinders fuel  odometer  \\\n",
       "0   9400        2012          bmw x5          2          6  gas    145000   \n",
       "1  25500        2013      ford f-150          2          6  gas     88705   \n",
       "2   5500        2011  hyundai sonata          4          4  gas    110000   \n",
       "3   1500        2013      ford f-150          1          8  gas    113000   \n",
       "4  14900        2015    chrysler 200          3          4  gas     80903   \n",
       "\n",
       "  transmission    type    paint_color  is_4wd date_posted  days_listed  \\\n",
       "0    automatic     SUV  not_specified    True  2018-06-23           19   \n",
       "1    automatic  pickup          white    True  2018-10-19           50   \n",
       "2    automatic   sedan            red   False  2019-02-07           79   \n",
       "3    automatic  pickup  not_specified   False  2019-03-22            9   \n",
       "4    automatic   sedan          black   False  2019-04-02           28   \n",
       "\n",
       "   weekday  month  year  vehicle_age  mileage_per_year  \n",
       "0        5      6  2018            7             20714  \n",
       "1        4     10  2018            6             14784  \n",
       "2        3      2  2019            9             12222  \n",
       "3        4      3  2019            7             16142  \n",
       "4        1      4  2019            5             16180  "
      ]
     },
     "execution_count": 29,
     "metadata": {},
     "output_type": "execute_result"
    }
   ],
   "source": [
    "car_sales_df.head()"
   ]
  },
  {
   "cell_type": "markdown",
   "metadata": {},
   "source": [
    "## Carry out exploratory data analysis"
   ]
  },
  {
   "cell_type": "code",
   "execution_count": 30,
   "metadata": {},
   "outputs": [
    {
     "data": {
      "text/plain": [
       "count     51525.000000\n",
       "mean      12132.464920\n",
       "std       10040.803015\n",
       "min           1.000000\n",
       "25%        5000.000000\n",
       "50%        9000.000000\n",
       "75%       16839.000000\n",
       "max      375000.000000\n",
       "Name: price, dtype: float64"
      ]
     },
     "execution_count": 30,
     "metadata": {},
     "output_type": "execute_result"
    }
   ],
   "source": [
    "# describing parameter price \n",
    "car_sales_df['price'].describe()"
   ]
  },
  {
   "cell_type": "code",
   "execution_count": 31,
   "metadata": {},
   "outputs": [
    {
     "data": {
      "image/png": "[encoded data removed]",
      "text/plain": [
       "<Figure size 432x288 with 1 Axes>"
      ]
     },
     "metadata": {
      "needs_background": "light"
     },
     "output_type": "display_data"
    }
   ],
   "source": [
    "#plotting histogram\n",
    "car_sales_df['price'].plot(kind='hist', bins=100, range=[0,100000], title='Histogram of the vehicle\\'s price')\n",
    "plt.xlabel('Price')\n",
    "plt.show( )"
   ]
  },
  {
   "cell_type": "markdown",
   "metadata": {},
   "source": [
    "The main price range from about 0 to 20000. There is outliers with price more than 60000"
   ]
  },
  {
   "cell_type": "code",
   "execution_count": 32,
   "metadata": {},
   "outputs": [
    {
     "data": {
      "text/plain": [
       "count    51525.000000\n",
       "mean         7.786181\n",
       "std          3.523578\n",
       "min          1.000000\n",
       "25%          5.000000\n",
       "50%          7.000000\n",
       "75%         11.000000\n",
       "max         17.000000\n",
       "Name: vehicle_age, dtype: float64"
      ]
     },
     "execution_count": 32,
     "metadata": {},
     "output_type": "execute_result"
    }
   ],
   "source": [
    "#describing parameter vehicle_age \n",
    "car_sales_df['vehicle_age'].describe()"
   ]
  },
  {
   "cell_type": "code",
   "execution_count": 33,
   "metadata": {},
   "outputs": [
    {
     "data": {
      "image/png": "[encoded data removed]",
      "text/plain": [
       "<Figure size 432x288 with 1 Axes>"
      ]
     },
     "metadata": {
      "needs_background": "light"
     },
     "output_type": "display_data"
    }
   ],
   "source": [
    "#plotting histogram\n",
    "car_sales_df['vehicle_age'].plot(kind='hist', bins=100, range=(0,60), title='Histogram of vehicle\\'s age')\n",
    "plt.xlabel('Vehicle_age')\n",
    "plt.show( )"
   ]
  },
  {
   "cell_type": "markdown",
   "metadata": {},
   "source": [
    "The age of the most vehicles is in the range from 0 to 20 years. There are separate values after 30 years."
   ]
  },
  {
   "cell_type": "code",
   "execution_count": 34,
   "metadata": {},
   "outputs": [
    {
     "data": {
      "text/plain": [
       "count     51525.000000\n",
       "mean     115162.352179\n",
       "std       59909.264385\n",
       "min           0.000000\n",
       "25%       79181.000000\n",
       "50%      113000.000000\n",
       "75%      146541.000000\n",
       "max      990000.000000\n",
       "Name: odometer, dtype: float64"
      ]
     },
     "execution_count": 34,
     "metadata": {},
     "output_type": "execute_result"
    }
   ],
   "source": [
    "#describing parameter mileage\n",
    "car_sales_df['odometer'].describe()"
   ]
  },
  {
   "cell_type": "code",
   "execution_count": 35,
   "metadata": {},
   "outputs": [
    {
     "data": {
      "image/png": "[encoded data removed]",
      "text/plain": [
       "<Figure size 432x288 with 1 Axes>"
      ]
     },
     "metadata": {
      "needs_background": "light"
     },
     "output_type": "display_data"
    }
   ],
   "source": [
    "#plotting histogram\n",
    "car_sales_df['odometer'].plot(kind='hist', bins=100, range=(0,500000), title='Histogram of odometer')\n",
    "plt.xlabel('Odometer')\n",
    "plt.show( )"
   ]
  },
  {
   "cell_type": "markdown",
   "metadata": {},
   "source": [
    "The main values of the odometer indicator are in the range from 0 to 200,000. There are a lot of new vehicles. There are a number of cars with mileage from 200,000 to 350,000 and individual values after 350,000"
   ]
  },
  {
   "cell_type": "code",
   "execution_count": 36,
   "metadata": {},
   "outputs": [
    {
     "data": {
      "text/plain": [
       "count    51525.000000\n",
       "mean         6.112450\n",
       "std          1.573784\n",
       "min          3.000000\n",
       "25%          4.000000\n",
       "50%          6.000000\n",
       "75%          8.000000\n",
       "max         12.000000\n",
       "Name: cylinders, dtype: float64"
      ]
     },
     "execution_count": 36,
     "metadata": {},
     "output_type": "execute_result"
    }
   ],
   "source": [
    "#describing parameter cylinders \n",
    "car_sales_df['cylinders'].describe()"
   ]
  },
  {
   "cell_type": "code",
   "execution_count": 37,
   "metadata": {},
   "outputs": [
    {
     "data": {
      "image/png": "[encoded data removed]",
      "text/plain": [
       "<Figure size 432x288 with 1 Axes>"
      ]
     },
     "metadata": {
      "needs_background": "light"
     },
     "output_type": "display_data"
    }
   ],
   "source": [
    "#plotting histogram\n",
    "car_sales_df['cylinders'].plot(kind='hist', bins=9, title='Histogram of cylinder\"s amount')\n",
    "plt.xlabel('Cylinders')\n",
    "plt.show( )"
   ]
  },
  {
   "cell_type": "markdown",
   "metadata": {},
   "source": [
    "Mostly vehicles for sale have 4, 6, or 8 cylinders."
   ]
  },
  {
   "cell_type": "code",
   "execution_count": 38,
   "metadata": {},
   "outputs": [
    {
     "data": {
      "text/plain": [
       "count    51525.000000\n",
       "mean         2.637535\n",
       "std          0.712447\n",
       "min          0.000000\n",
       "25%          2.000000\n",
       "50%          3.000000\n",
       "75%          3.000000\n",
       "max          5.000000\n",
       "Name: condition, dtype: float64"
      ]
     },
     "execution_count": 38,
     "metadata": {},
     "output_type": "execute_result"
    }
   ],
   "source": [
    "#describing parameter condition \n",
    "car_sales_df['condition'].describe()"
   ]
  },
  {
   "cell_type": "code",
   "execution_count": 39,
   "metadata": {},
   "outputs": [
    {
     "data": {
      "image/png": "[encoded data removed]",
      "text/plain": [
       "<Figure size 432x288 with 1 Axes>"
      ]
     },
     "metadata": {
      "needs_background": "light"
     },
     "output_type": "display_data"
    }
   ],
   "source": [
    "#plotting histogram\n",
    "car_sales_df['condition'].plot(kind='hist', bins=6, title='Histogram of vehicle\\'s condition')\n",
    "plt.xlabel('Condition')\n",
    "plt.show( )"
   ]
  },
  {
   "cell_type": "markdown",
   "metadata": {},
   "source": [
    "The condition of vehicles is mainly good (2) or excelent (3)."
   ]
  },
  {
   "cell_type": "code",
   "execution_count": 40,
   "metadata": {},
   "outputs": [
    {
     "data": {
      "text/html": [
       "<div>\n",
       "<style scoped>\n",
       "    .dataframe tbody tr th:only-of-type {\n",
       "        vertical-align: middle;\n",
       "    }\n",
       "\n",
       "    .dataframe tbody tr th {\n",
       "        vertical-align: top;\n",
       "    }\n",
       "\n",
       "    .dataframe thead th {\n",
       "        text-align: right;\n",
       "    }\n",
       "</style>\n",
       "<table border=\"1\" class=\"dataframe\">\n",
       "  <thead>\n",
       "    <tr style=\"text-align: right;\">\n",
       "      <th></th>\n",
       "      <th>price</th>\n",
       "      <th>vehicle_age</th>\n",
       "      <th>odometer</th>\n",
       "      <th>cylinders</th>\n",
       "      <th>condition</th>\n",
       "    </tr>\n",
       "  </thead>\n",
       "  <tbody>\n",
       "    <tr>\n",
       "      <td>count</td>\n",
       "      <td>51525.000000</td>\n",
       "      <td>51525.000000</td>\n",
       "      <td>51525.000000</td>\n",
       "      <td>51525.000000</td>\n",
       "      <td>51525.000000</td>\n",
       "    </tr>\n",
       "    <tr>\n",
       "      <td>mean</td>\n",
       "      <td>12132.464920</td>\n",
       "      <td>7.786181</td>\n",
       "      <td>115162.352179</td>\n",
       "      <td>6.112450</td>\n",
       "      <td>2.637535</td>\n",
       "    </tr>\n",
       "    <tr>\n",
       "      <td>std</td>\n",
       "      <td>10040.803015</td>\n",
       "      <td>3.523578</td>\n",
       "      <td>59909.264385</td>\n",
       "      <td>1.573784</td>\n",
       "      <td>0.712447</td>\n",
       "    </tr>\n",
       "    <tr>\n",
       "      <td>min</td>\n",
       "      <td>1.000000</td>\n",
       "      <td>1.000000</td>\n",
       "      <td>0.000000</td>\n",
       "      <td>3.000000</td>\n",
       "      <td>0.000000</td>\n",
       "    </tr>\n",
       "    <tr>\n",
       "      <td>25%</td>\n",
       "      <td>5000.000000</td>\n",
       "      <td>5.000000</td>\n",
       "      <td>79181.000000</td>\n",
       "      <td>4.000000</td>\n",
       "      <td>2.000000</td>\n",
       "    </tr>\n",
       "    <tr>\n",
       "      <td>50%</td>\n",
       "      <td>9000.000000</td>\n",
       "      <td>7.000000</td>\n",
       "      <td>113000.000000</td>\n",
       "      <td>6.000000</td>\n",
       "      <td>3.000000</td>\n",
       "    </tr>\n",
       "    <tr>\n",
       "      <td>75%</td>\n",
       "      <td>16839.000000</td>\n",
       "      <td>11.000000</td>\n",
       "      <td>146541.000000</td>\n",
       "      <td>8.000000</td>\n",
       "      <td>3.000000</td>\n",
       "    </tr>\n",
       "    <tr>\n",
       "      <td>max</td>\n",
       "      <td>375000.000000</td>\n",
       "      <td>17.000000</td>\n",
       "      <td>990000.000000</td>\n",
       "      <td>12.000000</td>\n",
       "      <td>5.000000</td>\n",
       "    </tr>\n",
       "  </tbody>\n",
       "</table>\n",
       "</div>"
      ],
      "text/plain": [
       "               price   vehicle_age       odometer     cylinders     condition\n",
       "count   51525.000000  51525.000000   51525.000000  51525.000000  51525.000000\n",
       "mean    12132.464920      7.786181  115162.352179      6.112450      2.637535\n",
       "std     10040.803015      3.523578   59909.264385      1.573784      0.712447\n",
       "min         1.000000      1.000000       0.000000      3.000000      0.000000\n",
       "25%      5000.000000      5.000000   79181.000000      4.000000      2.000000\n",
       "50%      9000.000000      7.000000  113000.000000      6.000000      3.000000\n",
       "75%     16839.000000     11.000000  146541.000000      8.000000      3.000000\n",
       "max    375000.000000     17.000000  990000.000000     12.000000      5.000000"
      ]
     },
     "execution_count": 40,
     "metadata": {},
     "output_type": "execute_result"
    }
   ],
   "source": [
    "car_sales_df[['price', 'vehicle_age', 'odometer', 'cylinders', 'condition']].describe()"
   ]
  },
  {
   "cell_type": "code",
   "execution_count": 41,
   "metadata": {},
   "outputs": [
    {
     "data": {
      "text/plain": [
       "6     20960\n",
       "8     15844\n",
       "4     13864\n",
       "10      549\n",
       "5       272\n",
       "3        34\n",
       "12        2\n",
       "Name: cylinders, dtype: int64"
      ]
     },
     "execution_count": 41,
     "metadata": {},
     "output_type": "execute_result"
    }
   ],
   "source": [
    "car_sales_df['cylinders'].value_counts()"
   ]
  },
  {
   "cell_type": "code",
   "execution_count": 42,
   "metadata": {},
   "outputs": [
    {
     "data": {
      "text/plain": [
       "3    24773\n",
       "2    20145\n",
       "4     4742\n",
       "1     1607\n",
       "5      143\n",
       "0      115\n",
       "Name: condition, dtype: int64"
      ]
     },
     "execution_count": 42,
     "metadata": {},
     "output_type": "execute_result"
    }
   ],
   "source": [
    "car_sales_df['condition'].value_counts()"
   ]
  },
  {
   "cell_type": "code",
   "execution_count": 43,
   "metadata": {},
   "outputs": [],
   "source": [
    "#removing the outliers \n",
    "good_data = car_sales_df.query('price <= 60000 and vehicle_age <= 30 and odometer <= 350000 and '\n",
    "                                'cylinders in (4, 6, 8, 10) and '\n",
    "                                'condition in (1,2,3,4)')"
   ]
  },
  {
   "cell_type": "code",
   "execution_count": 44,
   "metadata": {},
   "outputs": [],
   "source": [
    "#storing outliers in a separate DataFrame\n",
    "data_outliers = car_sales_df[~car_sales_df.index.isin(good_data.index)]"
   ]
  },
  {
   "cell_type": "code",
   "execution_count": 45,
   "metadata": {},
   "outputs": [
    {
     "name": "stdout",
     "output_type": "stream",
     "text": [
      "<class 'pandas.core.frame.DataFrame'>\n",
      "Int64Index: 723 entries, 53 to 51521\n",
      "Data columns (total 18 columns):\n",
      "price               723 non-null int64\n",
      "model_year          723 non-null int64\n",
      "model               723 non-null object\n",
      "condition           723 non-null int64\n",
      "cylinders           723 non-null int64\n",
      "fuel                723 non-null object\n",
      "odometer            723 non-null int64\n",
      "transmission        723 non-null object\n",
      "type                723 non-null object\n",
      "paint_color         723 non-null object\n",
      "is_4wd              723 non-null bool\n",
      "date_posted         723 non-null datetime64[ns]\n",
      "days_listed         723 non-null int64\n",
      "weekday             723 non-null int64\n",
      "month               723 non-null int64\n",
      "year                723 non-null int64\n",
      "vehicle_age         723 non-null int64\n",
      "mileage_per_year    723 non-null int64\n",
      "dtypes: bool(1), datetime64[ns](1), int64(11), object(5)\n",
      "memory usage: 102.4+ KB\n"
     ]
    }
   ],
   "source": [
    "data_outliers.info()"
   ]
  },
  {
   "cell_type": "code",
   "execution_count": 46,
   "metadata": {},
   "outputs": [
    {
     "name": "stdout",
     "output_type": "stream",
     "text": [
      "<class 'pandas.core.frame.DataFrame'>\n",
      "Int64Index: 50802 entries, 0 to 51524\n",
      "Data columns (total 18 columns):\n",
      "price               50802 non-null int64\n",
      "model_year          50802 non-null int64\n",
      "model               50802 non-null object\n",
      "condition           50802 non-null int64\n",
      "cylinders           50802 non-null int64\n",
      "fuel                50802 non-null object\n",
      "odometer            50802 non-null int64\n",
      "transmission        50802 non-null object\n",
      "type                50802 non-null object\n",
      "paint_color         50802 non-null object\n",
      "is_4wd              50802 non-null bool\n",
      "date_posted         50802 non-null datetime64[ns]\n",
      "days_listed         50802 non-null int64\n",
      "weekday             50802 non-null int64\n",
      "month               50802 non-null int64\n",
      "year                50802 non-null int64\n",
      "vehicle_age         50802 non-null int64\n",
      "mileage_per_year    50802 non-null int64\n",
      "dtypes: bool(1), datetime64[ns](1), int64(11), object(5)\n",
      "memory usage: 7.0+ MB\n"
     ]
    }
   ],
   "source": [
    "good_data.info()"
   ]
  },
  {
   "cell_type": "code",
   "execution_count": 47,
   "metadata": {},
   "outputs": [
    {
     "data": {
      "image/png": "[encoded data removed]",
      "text/plain": [
       "<Figure size 432x288 with 1 Axes>"
      ]
     },
     "metadata": {
      "needs_background": "light"
     },
     "output_type": "display_data"
    }
   ],
   "source": [
    "car_sales_df['price'].plot(kind='hist', bins=100, range=(0,100000), color='red')\n",
    "good_data['price'].plot(kind='hist', bins=100, range=(0,100000), color='blue')\n",
    "plt.xlabel('Price')\n",
    "plt.title('Comparison histograms of price')\n",
    "plt.show( )"
   ]
  },
  {
   "cell_type": "markdown",
   "metadata": {},
   "source": [
    "The differences between the charts are not significant, the number of ads has slightly decreased for all price categories, and there are no ads with too high a price on the new histogram."
   ]
  },
  {
   "cell_type": "code",
   "execution_count": 48,
   "metadata": {},
   "outputs": [
    {
     "data": {
      "image/png": "[encoded data removed]",
      "text/plain": [
       "<Figure size 432x288 with 1 Axes>"
      ]
     },
     "metadata": {
      "needs_background": "light"
     },
     "output_type": "display_data"
    }
   ],
   "source": [
    "car_sales_df['vehicle_age'].plot(kind='hist', bins=100, range=(0,60), color='red')\n",
    "good_data['vehicle_age'].plot(kind='hist', bins=100, range=(0,60), color='blue')\n",
    "plt.xlabel('Vehicle_age')\n",
    "plt.title('Comparison histograms of vehicle\\'s age')\n",
    "plt.show( )"
   ]
  },
  {
   "cell_type": "markdown",
   "metadata": {},
   "source": [
    "The histogram turned out to be smoother and there is no \"long tail\" in the form of rare ads for the sale of very old vehicles."
   ]
  },
  {
   "cell_type": "code",
   "execution_count": 49,
   "metadata": {},
   "outputs": [
    {
     "data": {
      "image/png": "[encoded data removed]",
      "text/plain": [
       "<Figure size 432x288 with 1 Axes>"
      ]
     },
     "metadata": {
      "needs_background": "light"
     },
     "output_type": "display_data"
    }
   ],
   "source": [
    "car_sales_df['odometer'].plot(kind='hist', bins=100, range=(0,500000), color='red')\n",
    "good_data['odometer'].plot(kind='hist', bins=100, range=(0,500000), color='blue')\n",
    "plt.xlabel('Odometer')\n",
    "plt.title('Comparison histograms of odometer')\n",
    "plt.show( )"
   ]
  },
  {
   "cell_type": "markdown",
   "metadata": {},
   "source": [
    "On the new histogram in comparison with the old one, the number of ads with zero odometer decreased and too high values were cut off."
   ]
  },
  {
   "cell_type": "code",
   "execution_count": 50,
   "metadata": {},
   "outputs": [
    {
     "data": {
      "image/png": "[encoded data removed]",
      "text/plain": [
       "<Figure size 432x288 with 1 Axes>"
      ]
     },
     "metadata": {
      "needs_background": "light"
     },
     "output_type": "display_data"
    }
   ],
   "source": [
    "car_sales_df['cylinders'].plot(kind='hist', bins=9, color='red')\n",
    "good_data['cylinders'].plot(kind='hist', bins=9, color='blue')\n",
    "plt.xlabel('Cylinders')\n",
    "plt.title('Comparison histograms of cylinder\"s amount')\n",
    "plt.show( )"
   ]
  },
  {
   "cell_type": "code",
   "execution_count": 51,
   "metadata": {},
   "outputs": [
    {
     "data": {
      "image/png": "[encoded data removed]",
      "text/plain": [
       "<Figure size 432x288 with 1 Axes>"
      ]
     },
     "metadata": {
      "needs_background": "light"
     },
     "output_type": "display_data"
    }
   ],
   "source": [
    "car_sales_df['condition'].plot(kind='hist', bins=6, color='red')\n",
    "good_data['condition'].plot(kind='hist', bins=6, color='blue')\n",
    "plt.xlabel('Condition')\n",
    "plt.title('Comparison histograms of vehicle\"s condition')\n",
    "plt.show( )"
   ]
  },
  {
   "cell_type": "code",
   "execution_count": 52,
   "metadata": {},
   "outputs": [
    {
     "data": {
      "text/plain": [
       "count    50802.000000\n",
       "mean        39.572084\n",
       "std         28.221799\n",
       "min          0.000000\n",
       "25%         19.000000\n",
       "50%         33.000000\n",
       "75%         53.000000\n",
       "max        271.000000\n",
       "Name: days_listed, dtype: float64"
      ]
     },
     "execution_count": 52,
     "metadata": {},
     "output_type": "execute_result"
    }
   ],
   "source": [
    "#describing parameter days_listed\n",
    "good_data['days_listed'].describe()"
   ]
  },
  {
   "cell_type": "markdown",
   "metadata": {},
   "source": [
    "The minimum ad was shown for less than a day. The maximum number of days to publish an ad was 267 days. On average, an advertisement for the sale of a vehicle is published for 40 days. Average deviates to the right."
   ]
  },
  {
   "cell_type": "code",
   "execution_count": 53,
   "metadata": {},
   "outputs": [
    {
     "data": {
      "image/png": "[encoded data removed]",
      "text/plain": [
       "<Figure size 432x288 with 1 Axes>"
      ]
     },
     "metadata": {
      "needs_background": "light"
     },
     "output_type": "display_data"
    }
   ],
   "source": [
    "good_data['days_listed'].hist()\n",
    "plt.ylabel('Frequency')\n",
    "plt.xlabel('Days listed')\n",
    "plt.title('Histogram of days listed')\n",
    "plt.show( )"
   ]
  },
  {
   "cell_type": "markdown",
   "metadata": {},
   "source": [
    "Most ads were displayed between 0 and 50 days."
   ]
  },
  {
   "cell_type": "code",
   "execution_count": 54,
   "metadata": {},
   "outputs": [
    {
     "name": "stdout",
     "output_type": "stream",
     "text": [
      "Mean value of days_listed is 40.0\n"
     ]
    }
   ],
   "source": [
    "good_data_mean = round(good_data['days_listed'].mean(), 0)\n",
    "print('Mean value of days_listed is {}'.format(good_data_mean))"
   ]
  },
  {
   "cell_type": "code",
   "execution_count": 55,
   "metadata": {},
   "outputs": [
    {
     "name": "stdout",
     "output_type": "stream",
     "text": [
      "Median value of days_listed is 33.0\n"
     ]
    }
   ],
   "source": [
    "good_data_median = round(good_data['days_listed'].median(), 0)\n",
    "print('Median value of days_listed is {}'.format(good_data_median))"
   ]
  },
  {
   "cell_type": "code",
   "execution_count": 56,
   "metadata": {},
   "outputs": [
    {
     "data": {
      "image/png": "[encoded data removed]",
      "text/plain": [
       "<Figure size 432x288 with 1 Axes>"
      ]
     },
     "metadata": {
      "needs_background": "light"
     },
     "output_type": "display_data"
    }
   ],
   "source": [
    "good_data.groupby(\"model_year\")['days_listed'].mean().plot()\n",
    "plt.ylabel('Days listed')\n",
    "plt.title('Dependence graph of the average advertising time')\n",
    "plt.show( )"
   ]
  },
  {
   "cell_type": "markdown",
   "metadata": {},
   "source": [
    "Since 2000, ads have shown a number of days close to the average. Older vehicles had different peaks: sometimes the ads were removed quickly, and sometimes they were listed for an abnormally long time."
   ]
  },
  {
   "cell_type": "code",
   "execution_count": 57,
   "metadata": {},
   "outputs": [
    {
     "data": {
      "image/png": "[encoded data removed]",
      "text/plain": [
       "<Figure size 432x288 with 1 Axes>"
      ]
     },
     "metadata": {
      "needs_background": "light"
     },
     "output_type": "display_data"
    }
   ],
   "source": [
    "good_data.boxplot(column='days_listed')\n",
    "plt.title('Box-and-whisker chart of days listed')\n",
    "plt.show()"
   ]
  },
  {
   "cell_type": "code",
   "execution_count": 58,
   "metadata": {},
   "outputs": [
    {
     "data": {
      "image/png": "[encoded data removed]",
      "text/plain": [
       "<Figure size 432x288 with 1 Axes>"
      ]
     },
     "metadata": {
      "needs_background": "light"
     },
     "output_type": "display_data"
    }
   ],
   "source": [
    "good_data.groupby(\"type\")['days_listed'].mean().plot(kind='bar')\n",
    "plt.title('Bar chart of average days listed in dependence on vehicle\"s type')\n",
    "plt.ylabel('average days listed')\n",
    "plt.show()"
   ]
  },
  {
   "cell_type": "code",
   "execution_count": 59,
   "metadata": {},
   "outputs": [
    {
     "data": {
      "text/plain": [
       "model\n",
       "ford econoline      45.470588\n",
       "ford explorer       28.800000\n",
       "ford f-250          53.000000\n",
       "hyundai santa fe    74.000000\n",
       "Name: days_listed, dtype: float64"
      ]
     },
     "execution_count": 59,
     "metadata": {},
     "output_type": "execute_result"
    }
   ],
   "source": [
    "good_data.query('type == \"bus\"').groupby('model')['days_listed'].mean().head(10)"
   ]
  },
  {
   "cell_type": "markdown",
   "metadata": {},
   "source": [
    "It can be concluded that the ads for the sale of buses were shown on average longer than the sale of other vehicles. In particular, the ads of the sale hyundai santa fe hung harmful for almost twice as long."
   ]
  },
  {
   "cell_type": "code",
   "execution_count": 60,
   "metadata": {},
   "outputs": [
    {
     "data": {
      "text/plain": [
       "type\n",
       "SUV             97577.229167\n",
       "convertible     53720.666667\n",
       "coupe           62334.285714\n",
       "hatchback      117143.111111\n",
       "mini-van       113059.333333\n",
       "offroad        116625.000000\n",
       "pickup         120097.870968\n",
       "sedan          112987.469388\n",
       "truck          113680.351852\n",
       "van            110182.428571\n",
       "wagon          121307.000000\n",
       "Name: odometer, dtype: float64"
      ]
     },
     "execution_count": 60,
     "metadata": {},
     "output_type": "execute_result"
    }
   ],
   "source": [
    "good_data.query('days_listed <= 1').groupby('type')['odometer'].mean().head(20)"
   ]
  },
  {
   "cell_type": "markdown",
   "metadata": {},
   "source": [
    "All ads which were displayed less then 1 day was about vehicles with mileage of about 100000 km and more, excepting for convertibles."
   ]
  },
  {
   "cell_type": "code",
   "execution_count": 61,
   "metadata": {},
   "outputs": [
    {
     "data": {
      "text/html": [
       "<div>\n",
       "<style scoped>\n",
       "    .dataframe tbody tr th:only-of-type {\n",
       "        vertical-align: middle;\n",
       "    }\n",
       "\n",
       "    .dataframe tbody tr th {\n",
       "        vertical-align: top;\n",
       "    }\n",
       "\n",
       "    .dataframe thead th {\n",
       "        text-align: right;\n",
       "    }\n",
       "</style>\n",
       "<table border=\"1\" class=\"dataframe\">\n",
       "  <thead>\n",
       "    <tr style=\"text-align: right;\">\n",
       "      <th></th>\n",
       "      <th>ads_count</th>\n",
       "    </tr>\n",
       "    <tr>\n",
       "      <th>type</th>\n",
       "      <th></th>\n",
       "    </tr>\n",
       "  </thead>\n",
       "  <tbody>\n",
       "    <tr>\n",
       "      <td>SUV</td>\n",
       "      <td>12329</td>\n",
       "    </tr>\n",
       "    <tr>\n",
       "      <td>bus</td>\n",
       "      <td>24</td>\n",
       "    </tr>\n",
       "    <tr>\n",
       "      <td>convertible</td>\n",
       "      <td>436</td>\n",
       "    </tr>\n",
       "    <tr>\n",
       "      <td>coupe</td>\n",
       "      <td>2275</td>\n",
       "    </tr>\n",
       "    <tr>\n",
       "      <td>hatchback</td>\n",
       "      <td>1035</td>\n",
       "    </tr>\n",
       "    <tr>\n",
       "      <td>mini-van</td>\n",
       "      <td>1153</td>\n",
       "    </tr>\n",
       "    <tr>\n",
       "      <td>offroad</td>\n",
       "      <td>213</td>\n",
       "    </tr>\n",
       "    <tr>\n",
       "      <td>other</td>\n",
       "      <td>255</td>\n",
       "    </tr>\n",
       "    <tr>\n",
       "      <td>pickup</td>\n",
       "      <td>6877</td>\n",
       "    </tr>\n",
       "    <tr>\n",
       "      <td>sedan</td>\n",
       "      <td>11866</td>\n",
       "    </tr>\n",
       "    <tr>\n",
       "      <td>truck</td>\n",
       "      <td>12178</td>\n",
       "    </tr>\n",
       "    <tr>\n",
       "      <td>van</td>\n",
       "      <td>630</td>\n",
       "    </tr>\n",
       "    <tr>\n",
       "      <td>wagon</td>\n",
       "      <td>1531</td>\n",
       "    </tr>\n",
       "  </tbody>\n",
       "</table>\n",
       "</div>"
      ],
      "text/plain": [
       "             ads_count\n",
       "type                  \n",
       "SUV              12329\n",
       "bus                 24\n",
       "convertible        436\n",
       "coupe             2275\n",
       "hatchback         1035\n",
       "mini-van          1153\n",
       "offroad            213\n",
       "other              255\n",
       "pickup            6877\n",
       "sedan            11866\n",
       "truck            12178\n",
       "van                630\n",
       "wagon             1531"
      ]
     },
     "execution_count": 61,
     "metadata": {},
     "output_type": "execute_result"
    }
   ],
   "source": [
    "#Analyzing the number of ads\n",
    "vehicles_number_ads_by_type = good_data.pivot_table(index='type', values='price', aggfunc='count')\n",
    "vehicles_number_ads_by_type.columns = ['ads_count']\n",
    "vehicles_number_ads_by_type.head(15)"
   ]
  },
  {
   "cell_type": "code",
   "execution_count": 62,
   "metadata": {},
   "outputs": [
    {
     "data": {
      "image/png": "[encoded data removed]",
      "text/plain": [
       "<Figure size 432x288 with 1 Axes>"
      ]
     },
     "metadata": {
      "needs_background": "light"
     },
     "output_type": "display_data"
    }
   ],
   "source": [
    "vehicles_number_ads_by_type['ads_count'].plot.bar()\n",
    "plt.title('The number of ads for each type of vehicles')\n",
    "plt.ylabel('number of ads')\n",
    "plt.show()"
   ]
  },
  {
   "cell_type": "markdown",
   "metadata": {},
   "source": [
    "The most numbers of ads of SUVs and trucks vehicles."
   ]
  },
  {
   "cell_type": "code",
   "execution_count": 63,
   "metadata": {},
   "outputs": [
    {
     "data": {
      "text/html": [
       "<div>\n",
       "<style scoped>\n",
       "    .dataframe tbody tr th:only-of-type {\n",
       "        vertical-align: middle;\n",
       "    }\n",
       "\n",
       "    .dataframe tbody tr th {\n",
       "        vertical-align: top;\n",
       "    }\n",
       "\n",
       "    .dataframe thead th {\n",
       "        text-align: right;\n",
       "    }\n",
       "</style>\n",
       "<table border=\"1\" class=\"dataframe\">\n",
       "  <thead>\n",
       "    <tr style=\"text-align: right;\">\n",
       "      <th></th>\n",
       "      <th>price</th>\n",
       "    </tr>\n",
       "    <tr>\n",
       "      <th>type</th>\n",
       "      <th></th>\n",
       "    </tr>\n",
       "  </thead>\n",
       "  <tbody>\n",
       "    <tr>\n",
       "      <td>SUV</td>\n",
       "      <td>11149.40</td>\n",
       "    </tr>\n",
       "    <tr>\n",
       "      <td>bus</td>\n",
       "      <td>17135.67</td>\n",
       "    </tr>\n",
       "    <tr>\n",
       "      <td>convertible</td>\n",
       "      <td>14575.88</td>\n",
       "    </tr>\n",
       "    <tr>\n",
       "      <td>coupe</td>\n",
       "      <td>14353.44</td>\n",
       "    </tr>\n",
       "    <tr>\n",
       "      <td>hatchback</td>\n",
       "      <td>6868.51</td>\n",
       "    </tr>\n",
       "    <tr>\n",
       "      <td>mini-van</td>\n",
       "      <td>8193.18</td>\n",
       "    </tr>\n",
       "    <tr>\n",
       "      <td>offroad</td>\n",
       "      <td>14292.29</td>\n",
       "    </tr>\n",
       "    <tr>\n",
       "      <td>other</td>\n",
       "      <td>10989.71</td>\n",
       "    </tr>\n",
       "    <tr>\n",
       "      <td>pickup</td>\n",
       "      <td>16057.41</td>\n",
       "    </tr>\n",
       "    <tr>\n",
       "      <td>sedan</td>\n",
       "      <td>6965.36</td>\n",
       "    </tr>\n",
       "    <tr>\n",
       "      <td>truck</td>\n",
       "      <td>16734.89</td>\n",
       "    </tr>\n",
       "    <tr>\n",
       "      <td>van</td>\n",
       "      <td>10546.94</td>\n",
       "    </tr>\n",
       "    <tr>\n",
       "      <td>wagon</td>\n",
       "      <td>9088.13</td>\n",
       "    </tr>\n",
       "  </tbody>\n",
       "</table>\n",
       "</div>"
      ],
      "text/plain": [
       "                price\n",
       "type                 \n",
       "SUV          11149.40\n",
       "bus          17135.67\n",
       "convertible  14575.88\n",
       "coupe        14353.44\n",
       "hatchback     6868.51\n",
       "mini-van      8193.18\n",
       "offroad      14292.29\n",
       "other        10989.71\n",
       "pickup       16057.41\n",
       "sedan         6965.36\n",
       "truck        16734.89\n",
       "van          10546.94\n",
       "wagon         9088.13"
      ]
     },
     "execution_count": 63,
     "metadata": {},
     "output_type": "execute_result"
    }
   ],
   "source": [
    "# Analyzing the average price for each type of vehicle\n",
    "vehicles_mean_price_by_type = round(car_sales_df.pivot_table(index='type', values='price'), 2)\n",
    "vehicles_mean_price_by_type.head(15)"
   ]
  },
  {
   "cell_type": "code",
   "execution_count": 64,
   "metadata": {},
   "outputs": [
    {
     "data": {
      "image/png": "[encoded data removed]",
      "text/plain": [
       "<Figure size 432x288 with 1 Axes>"
      ]
     },
     "metadata": {
      "needs_background": "light"
     },
     "output_type": "display_data"
    }
   ],
   "source": [
    "vehicles_mean_price_by_type['price'].plot.bar()\n",
    "plt.title('Average price for each type of vehicle')\n",
    "plt.ylabel('average price')\n",
    "plt.show()"
   ]
  },
  {
   "cell_type": "markdown",
   "metadata": {},
   "source": [
    "The most expensive type of vehicles is bus and the cheapest is hatchback."
   ]
  },
  {
   "cell_type": "code",
   "execution_count": 65,
   "metadata": {},
   "outputs": [
    {
     "data": {
      "image/png": "[encoded data removed]",
      "text/plain": [
       "<Figure size 432x288 with 1 Axes>"
      ]
     },
     "metadata": {
      "needs_background": "light"
     },
     "output_type": "display_data"
    }
   ],
   "source": [
    "#Analyzing whether the price depends on condition of SUV vehicles\n",
    "suv_mean_price_by_condition = car_sales_df.query('type == \"SUV\"').pivot_table(index = 'condition', values = 'price')\n",
    "suv_mean_price_by_condition_plot = suv_mean_price_by_condition['price'].plot.bar()\n",
    "suv_mean_price_by_condition_plot.set_title('Price dependence on condition of SUV vehicles')\n",
    "plt.ylabel('average price')\n",
    "plt.show()"
   ]
  },
  {
   "cell_type": "markdown",
   "metadata": {},
   "source": [
    "There is a direct relationship between the condition of the SUV vehicle and its price, which is obvious. So the better the condition of the vehicle, the more expensive it is."
   ]
  },
  {
   "cell_type": "code",
   "execution_count": 66,
   "metadata": {},
   "outputs": [
    {
     "data": {
      "image/png": "[encoded data removed]",
      "text/plain": [
       "<Figure size 432x288 with 1 Axes>"
      ]
     },
     "metadata": {
      "needs_background": "light"
     },
     "output_type": "display_data"
    }
   ],
   "source": [
    "\n",
    "#Plotting scatterplot\n",
    "car_sales_df.query('type == \"SUV\"').plot(x='condition', y='price', kind='scatter')\n",
    "plt.title('Scatterplot of price dependence on condition of SUV vehicles')\n",
    "plt.show()"
   ]
  },
  {
   "cell_type": "code",
   "execution_count": 67,
   "metadata": {},
   "outputs": [
    {
     "data": {
      "image/png": "[encoded data removed]",
      "text/plain": [
       "<Figure size 432x288 with 1 Axes>"
      ]
     },
     "metadata": {
      "needs_background": "light"
     },
     "output_type": "display_data"
    }
   ],
   "source": [
    "#Analyzing whether the price depends on condition of truck vehicles\n",
    "truck_mean_price_by_condition = car_sales_df.query('type == \"truck\"').pivot_table(index = 'condition', values = 'price')\n",
    "truck_mean_price_by_condition_plot = truck_mean_price_by_condition['price'].plot.bar()\n",
    "truck_mean_price_by_condition_plot.set_title('Price dependence on condition of truck vehicles')\n",
    "plt.ylabel('average price')\n",
    "plt.show()"
   ]
  },
  {
   "cell_type": "markdown",
   "metadata": {},
   "source": [
    "There is also a relationship between the condition of the truck vehicle and its price, the better the more expensive. But there is a slightly non-standard situation that truck vehicles in salvage condition (0) are more expensive than in fair condition (1). Most likely this can be explained by the fact that initially the cost of the truck vehicles were significantly different. And it is possible that much more expensive models are in salvage condition, then in fair condition."
   ]
  },
  {
   "cell_type": "code",
   "execution_count": 68,
   "metadata": {},
   "outputs": [
    {
     "data": {
      "image/png": "[encoded data removed]",
      "text/plain": [
       "<Figure size 432x288 with 1 Axes>"
      ]
     },
     "metadata": {
      "needs_background": "light"
     },
     "output_type": "display_data"
    }
   ],
   "source": [
    "#Plotting scatterplot\n",
    "car_sales_df.query('type == \"truck\"').plot(x='condition', y='price', kind='scatter')\n",
    "plt.title('Scatterplot of Price dependence on condition of truck vehicles')\n",
    "plt.show()"
   ]
  },
  {
   "cell_type": "code",
   "execution_count": 69,
   "metadata": {},
   "outputs": [
    {
     "data": {
      "image/png": "[encoded data removed]",
      "text/plain": [
       "<Figure size 432x288 with 1 Axes>"
      ]
     },
     "metadata": {
      "needs_background": "light"
     },
     "output_type": "display_data"
    }
   ],
   "source": [
    "\n",
    "#Analyzing whether the price depends on paint_color of SUV vehicles\n",
    "suv_mean_price_by_paint = car_sales_df.query('type == \"SUV\"').pivot_table(index = 'paint_color', values = 'price')\n",
    "suv_mean_price_by_paint_plot = suv_mean_price_by_paint['price'].plot.bar()\n",
    "suv_mean_price_by_paint_plot.set_title('Price dependence on colour of SUV vehicles')\n",
    "plt.ylabel('average price')\n",
    "plt.show()"
   ]
  },
  {
   "cell_type": "markdown",
   "metadata": {},
   "source": [
    "Most likely, the color affects the value of the vehicle, but there is no definite relationship."
   ]
  },
  {
   "cell_type": "code",
   "execution_count": 70,
   "metadata": {},
   "outputs": [
    {
     "data": {
      "image/png": "[encoded data removed]",
      "text/plain": [
       "<Figure size 432x288 with 1 Axes>"
      ]
     },
     "metadata": {
      "needs_background": "light"
     },
     "output_type": "display_data"
    }
   ],
   "source": [
    "#ploting box-and-whisker chart\n",
    "suv_mean_price_by_paint.boxplot()\n",
    "plt.title('Boxplot of price dependence on colour of SUV vehicles')\n",
    "plt.show()"
   ]
  },
  {
   "cell_type": "code",
   "execution_count": 71,
   "metadata": {},
   "outputs": [
    {
     "data": {
      "image/png": "[encoded data removed]",
      "text/plain": [
       "<Figure size 432x288 with 1 Axes>"
      ]
     },
     "metadata": {
      "needs_background": "light"
     },
     "output_type": "display_data"
    }
   ],
   "source": [
    "#Analyzing whether the price depends on paint_color of truck vehicles\n",
    "truck_mean_price_by_paint = car_sales_df.query('type == \"truck\"').pivot_table(index = 'paint_color', values = 'price')\n",
    "truck_mean_price_by_paint_plot = truck_mean_price_by_paint['price'].plot.bar()\n",
    "truck_mean_price_by_paint_plot.set_title('Price dependence on colour of truck vehicles')\n",
    "plt.ylabel('average price')\n",
    "plt.show()"
   ]
  },
  {
   "cell_type": "markdown",
   "metadata": {},
   "source": [
    "Most likely, the color affects the value of the vehicle, but there is no definite relationship."
   ]
  },
  {
   "cell_type": "code",
   "execution_count": 72,
   "metadata": {},
   "outputs": [
    {
     "data": {
      "image/png": "[encoded data removed]",
      "text/plain": [
       "<Figure size 432x288 with 1 Axes>"
      ]
     },
     "metadata": {
      "needs_background": "light"
     },
     "output_type": "display_data"
    }
   ],
   "source": [
    "#ploting box-and-whisker chart\n",
    "truck_mean_price_by_paint.boxplot()\n",
    "plt.title('Boxplot of price dependence on colour of truck vehicles')\n",
    "plt.show()"
   ]
  },
  {
   "cell_type": "code",
   "execution_count": 73,
   "metadata": {},
   "outputs": [
    {
     "data": {
      "image/png": "[encoded data removed]",
      "text/plain": [
       "<Figure size 432x288 with 1 Axes>"
      ]
     },
     "metadata": {
      "needs_background": "light"
     },
     "output_type": "display_data"
    }
   ],
   "source": [
    "#Analyzing whether the price depends on transmission of SUV vehicles\n",
    "suv_mean_price_by_transmission = car_sales_df.query('type == \"SUV\"').pivot_table(index = 'transmission', values = 'price')\n",
    "suv_mean_price_by_transmission_plot = suv_mean_price_by_transmission['price'].plot.bar()\n",
    "suv_mean_price_by_transmission_plot.set_title('Price dependence on transmission of SUV vehicles')\n",
    "plt.ylabel('average price')\n",
    "plt.show()"
   ]
  },
  {
   "cell_type": "markdown",
   "metadata": {},
   "source": [
    "Manual transmission of SUV vehicles costs a litle bit more expensive."
   ]
  },
  {
   "cell_type": "code",
   "execution_count": 74,
   "metadata": {},
   "outputs": [
    {
     "data": {
      "image/png": "[encoded data removed]",
      "text/plain": [
       "<Figure size 432x288 with 1 Axes>"
      ]
     },
     "metadata": {
      "needs_background": "light"
     },
     "output_type": "display_data"
    }
   ],
   "source": [
    "#ploting box-and-whisker chart\n",
    "suv_mean_price_by_transmission.boxplot()\n",
    "plt.title('Boxplot of price dependence on transmission of SUV vehicles')\n",
    "plt.show()"
   ]
  },
  {
   "cell_type": "code",
   "execution_count": 75,
   "metadata": {},
   "outputs": [
    {
     "data": {
      "image/png": "[encoded data removed]",
      "text/plain": [
       "<Figure size 432x288 with 1 Axes>"
      ]
     },
     "metadata": {
      "needs_background": "light"
     },
     "output_type": "display_data"
    }
   ],
   "source": [
    "#Analyzing whether the price depends on transmission of truck vehicles\n",
    "truck_mean_price_by_transmission = car_sales_df.query('type == \"truck\"').pivot_table(index = 'transmission', values = 'price')\n",
    "truck_mean_price_by_transmission_plot = truck_mean_price_by_transmission['price'].plot.bar()\n",
    "truck_mean_price_by_transmission_plot.set_title('Price dependence on transmission of truck vehicles')\n",
    "plt.ylabel('average price')\n",
    "plt.show()"
   ]
  },
  {
   "cell_type": "markdown",
   "metadata": {},
   "source": [
    "The price of the truck vehicles with automatic transmission is significantly higher than with manual or others."
   ]
  },
  {
   "cell_type": "code",
   "execution_count": 76,
   "metadata": {},
   "outputs": [
    {
     "data": {
      "image/png": "[encoded data removed]",
      "text/plain": [
       "<Figure size 432x288 with 1 Axes>"
      ]
     },
     "metadata": {
      "needs_background": "light"
     },
     "output_type": "display_data"
    }
   ],
   "source": [
    "#ploting box-and-whisker chart\n",
    "truck_mean_price_by_transmission.boxplot()\n",
    "plt.title('Boxplot of price dependence on transmission of truck vehicles')\n",
    "plt.show()"
   ]
  },
  {
   "cell_type": "code",
   "execution_count": 77,
   "metadata": {},
   "outputs": [
    {
     "data": {
      "image/png": "[encoded data removed]",
      "text/plain": [
       "<Figure size 432x288 with 1 Axes>"
      ]
     },
     "metadata": {
      "needs_background": "light"
     },
     "output_type": "display_data"
    }
   ],
   "source": [
    "car_sales_df['odometer'].hist()\n",
    "plt.title('Histogram of odometer')\n",
    "plt.xlabel('odometer')\n",
    "plt.ylabel('frequency')\n",
    "plt.show()"
   ]
  },
  {
   "cell_type": "code",
   "execution_count": 78,
   "metadata": {},
   "outputs": [],
   "source": [
    "#function for categorizing mileage\n",
    "def categorize_mileage(mileage):\n",
    "    if mileage < 50000:\n",
    "        return '0-50k miles'\n",
    "    if (mileage >= 50000) and (mileage < 100000):\n",
    "        return '50-100k miles'\n",
    "    if (mileage >= 100000) and (mileage < 150000):\n",
    "        return '100k-150k miles'\n",
    "    if (mileage >= 150000) and (mileage < 200000):\n",
    "        return '150k-200k miles'\n",
    "    if (mileage >= 200000):\n",
    "        return '>200k miles'"
   ]
  },
  {
   "cell_type": "code",
   "execution_count": 79,
   "metadata": {},
   "outputs": [],
   "source": [
    "#applying function\n",
    "car_sales_df['mileage_category'] = car_sales_df['odometer'].apply(categorize_mileage)"
   ]
  },
  {
   "cell_type": "code",
   "execution_count": 80,
   "metadata": {},
   "outputs": [
    {
     "data": {
      "image/png": "[encoded data removed]",
      "text/plain": [
       "<Figure size 432x288 with 1 Axes>"
      ]
     },
     "metadata": {
      "needs_background": "light"
     },
     "output_type": "display_data"
    }
   ],
   "source": [
    "#Analyzing whether the price depends on mileage_category of SUV vehicles\n",
    "suv_mean_price_by_mileage_category = car_sales_df.query('type == \"SUV\"').pivot_table(index = 'mileage_category', values = 'price')\n",
    "suv_mean_price_by_mileage_category_plot = suv_mean_price_by_mileage_category['price'].plot.bar(title='Price dependence on mileage category of SUV vehicles')\n",
    "plt.ylabel('average price')\n",
    "plt.show()"
   ]
  },
  {
   "cell_type": "markdown",
   "metadata": {},
   "source": [
    "The odometer of SUV vehicles influence on its price. The lower odometer the higher price."
   ]
  },
  {
   "cell_type": "code",
   "execution_count": 81,
   "metadata": {},
   "outputs": [
    {
     "data": {
      "image/png": "[encoded data removed]",
      "text/plain": [
       "<Figure size 432x288 with 1 Axes>"
      ]
     },
     "metadata": {
      "needs_background": "light"
     },
     "output_type": "display_data"
    }
   ],
   "source": [
    "#Plotting scatterplot\n",
    "car_sales_df.query('type == \"SUV\"').plot(x='odometer', y='price', kind='scatter', title='Scatterplot. Price dependence on mileage category of SUV vehicles')\n",
    "plt.show()"
   ]
  },
  {
   "cell_type": "code",
   "execution_count": 82,
   "metadata": {},
   "outputs": [
    {
     "data": {
      "image/png": "[encoded data removed]",
      "text/plain": [
       "<Figure size 432x288 with 1 Axes>"
      ]
     },
     "metadata": {
      "needs_background": "light"
     },
     "output_type": "display_data"
    }
   ],
   "source": [
    "#Analyzing whether the price depends on mileage_category of truck vehicles\n",
    "truck_mean_price_by_mileage_category = car_sales_df.query('type == \"truck\"').pivot_table(index = 'mileage_category', values = 'price')\n",
    "truck_mean_price_by_mileage_category_plot = suv_mean_price_by_mileage_category['price'].plot.bar(title='Price dependence on mileage category of truck vehicles')\n",
    "plt.ylabel('average price')\n",
    "plt.show()"
   ]
  },
  {
   "cell_type": "markdown",
   "metadata": {},
   "source": [
    "The odometer of truck vehicles influence on its price. The lower odometer the higher price."
   ]
  },
  {
   "cell_type": "code",
   "execution_count": 83,
   "metadata": {},
   "outputs": [
    {
     "data": {
      "image/png": "[encoded data removed]",
      "text/plain": [
       "<Figure size 432x288 with 1 Axes>"
      ]
     },
     "metadata": {
      "needs_background": "light"
     },
     "output_type": "display_data"
    }
   ],
   "source": [
    "#Plotting scatterplot\n",
    "car_sales_df.query('type == \"truck\"').plot(x='odometer', y='price', kind='scatter', title='Scatterplot. Price dependence on mileage category of truck vehicles')\n",
    "plt.show()"
   ]
  },
  {
   "cell_type": "code",
   "execution_count": 84,
   "metadata": {},
   "outputs": [
    {
     "data": {
      "image/png": "[encoded data removed]",
      "text/plain": [
       "<Figure size 432x288 with 1 Axes>"
      ]
     },
     "metadata": {
      "needs_background": "light"
     },
     "output_type": "display_data"
    }
   ],
   "source": [
    "car_sales_df['vehicle_age'].hist()\n",
    "plt.title('Histogram of vehicle\\'s age')\n",
    "plt.xlabel('vehicle_age')\n",
    "plt.ylabel('frequency')\n",
    "plt.show()"
   ]
  },
  {
   "cell_type": "code",
   "execution_count": 85,
   "metadata": {},
   "outputs": [],
   "source": [
    "#function for categorizing age\n",
    "def age_of_vehicle(age):\n",
    "    if age < 10:\n",
    "        return '0-10 years'\n",
    "    if (age >= 10) and (age < 20):\n",
    "        return '10-20 years'\n",
    "    if (age >= 20) and (age < 30):\n",
    "        return '20-30 years'\n",
    "    if (age >= 30) and (age < 40):\n",
    "        return '30-40 years'\n",
    "    if (age >= 40):\n",
    "        return '>40 years'"
   ]
  },
  {
   "cell_type": "code",
   "execution_count": 86,
   "metadata": {},
   "outputs": [],
   "source": [
    "#applying function\n",
    "car_sales_df['age_category'] = car_sales_df['vehicle_age'].apply(age_of_vehicle)"
   ]
  },
  {
   "cell_type": "code",
   "execution_count": 87,
   "metadata": {},
   "outputs": [
    {
     "data": {
      "image/png": "[encoded data removed]",
      "text/plain": [
       "<Figure size 432x288 with 1 Axes>"
      ]
     },
     "metadata": {
      "needs_background": "light"
     },
     "output_type": "display_data"
    }
   ],
   "source": [
    "#Analyzing whether the price depends on age_category of SUV vehicles\n",
    "suv_mean_price_by_age_category = car_sales_df.query('type == \"SUV\"').pivot_table(index = 'age_category', values = 'price')\n",
    "suv_mean_price_by_age_category_plot = suv_mean_price_by_age_category['price'].plot.bar()\n",
    "suv_mean_price_by_age_category_plot.set_title('Price dependence on age category of SUV vehicles')\n",
    "plt.ylabel('price')\n",
    "plt.show()"
   ]
  },
  {
   "cell_type": "markdown",
   "metadata": {},
   "source": [
    "The price depends on age of the SUV vehicle. As a rule, the younger the vehicle, the more expensive it is. However on the histgram vehicles older than 40 years cost more expensive than vehicles from 10 to 20 years. Maybe these are rare vehicles."
   ]
  },
  {
   "cell_type": "code",
   "execution_count": 88,
   "metadata": {},
   "outputs": [
    {
     "data": {
      "image/png": "[encoded data removed]",
      "text/plain": [
       "<Figure size 432x288 with 1 Axes>"
      ]
     },
     "metadata": {
      "needs_background": "light"
     },
     "output_type": "display_data"
    }
   ],
   "source": [
    "#Plotting scatterplot\n",
    "car_sales_df.query('type == \"SUV\"').plot(x='vehicle_age', y='price', kind='scatter')\n",
    "plt.title('Scatterplot. Price dependence on age category of SUV vehicles')\n",
    "plt.show()"
   ]
  },
  {
   "cell_type": "code",
   "execution_count": 89,
   "metadata": {},
   "outputs": [
    {
     "data": {
      "image/png": "[encoded data removed]",
      "text/plain": [
       "<Figure size 432x288 with 1 Axes>"
      ]
     },
     "metadata": {
      "needs_background": "light"
     },
     "output_type": "display_data"
    }
   ],
   "source": [
    "#Analyzing whether the price depends on age_category of truck vehicles\n",
    "truck_mean_price_by_age_category = car_sales_df.query('type == \"truck\"').pivot_table(index='age_category', values = 'price')\n",
    "truck_mean_price_by_age_category_plot = truck_mean_price_by_age_category['price'].plot.bar()\n",
    "truck_mean_price_by_age_category_plot.set_title('Price dependence on age category of truck vehicles')\n",
    "plt.ylabel('price')\n",
    "plt.show()"
   ]
  },
  {
   "cell_type": "markdown",
   "metadata": {},
   "source": [
    "The price depends on age of the truck vehicle. As a rule, the younger the vehicle, the more expensive it is. However on the histgram vehicles older than 40 years cost more expensive than vehicles from 10 to 20 years. Maybe these are rare vehicles."
   ]
  },
  {
   "cell_type": "code",
   "execution_count": 90,
   "metadata": {
    "scrolled": true
   },
   "outputs": [
    {
     "data": {
      "image/png": "[encoded data removed]",
      "text/plain": [
       "<Figure size 432x288 with 1 Axes>"
      ]
     },
     "metadata": {
      "needs_background": "light"
     },
     "output_type": "display_data"
    }
   ],
   "source": [
    "#Plotting scatterplot\n",
    "car_sales_df.query('type == \"truck\"').plot(x='vehicle_age', y='price', kind='scatter')\n",
    "plt.title('Scatterplot. Price dependence on age category of truck vehicles')\n",
    "plt.show()"
   ]
  },
  {
   "cell_type": "markdown",
   "metadata": {},
   "source": [
    "## Overall conclusion"
   ]
  },
  {
   "cell_type": "markdown",
   "metadata": {},
   "source": [
    "We analyzed a table consisting of 13 columns and 51525 lines. The condition of most vehicles was good or excellent. The shortest ad time was less than a day and the longest publishing period was 267 days. On average, an advertisement for the sale of a vehicle was published for 40 days. Average deviated to the right. It was striking that the ads for the sale of buses were shown on average longer than the sale of other vehicles. The biggest numbers of ads referred to SUVs and trucks vehicles.The most expensive type of vehicles was bus the cheapest one was hatchback. We also observed and stated a direct relationship between some important parameter and the price of the vehicle. For example such advantages as good condition of the price, automatic transmission, low odometer and young age of the vehicle essentially increased the price. At the same time we saw some interesting exceptions, like that manual transmission of SUV vehicles was a little bit more expensive or unique old vehicles (so-called “old-timer) were offered at very high price. Most likely it seemed, that the color affected the value of the vehicle as well, but there was no definitive relationship found."
   ]
  }
 ],
 "metadata": {
  "ExecuteTimeLog": [
   {
    "duration": 887,
    "start_time": "2021-10-14T00:52:42.711Z"
   },
   {
    "duration": 88,
    "start_time": "2021-10-14T00:55:15.109Z"
   },
   {
    "duration": 5,
    "start_time": "2021-10-14T00:55:56.734Z"
   },
   {
    "duration": 17,
    "start_time": "2021-10-14T00:56:30.573Z"
   },
   {
    "duration": 83,
    "start_time": "2021-10-14T00:57:05.941Z"
   },
   {
    "duration": 15,
    "start_time": "2021-10-14T00:58:18.672Z"
   },
   {
    "duration": 38,
    "start_time": "2021-10-14T00:58:45.472Z"
   },
   {
    "duration": 20,
    "start_time": "2021-10-14T00:59:11.394Z"
   },
   {
    "duration": 23,
    "start_time": "2021-10-14T01:01:43.412Z"
   },
   {
    "duration": 20,
    "start_time": "2021-10-14T01:02:32.078Z"
   },
   {
    "duration": 17,
    "start_time": "2021-10-14T01:02:37.093Z"
   },
   {
    "duration": 17,
    "start_time": "2021-10-14T01:03:37.451Z"
   },
   {
    "duration": 5,
    "start_time": "2021-10-14T01:04:06.909Z"
   },
   {
    "duration": 3,
    "start_time": "2021-10-14T01:10:41.431Z"
   },
   {
    "duration": 1879,
    "start_time": "2021-10-14T01:11:56.851Z"
   },
   {
    "duration": 2145,
    "start_time": "2021-10-14T01:12:18.738Z"
   },
   {
    "duration": 3,
    "start_time": "2021-10-14T01:12:55.333Z"
   },
   {
    "duration": 1932,
    "start_time": "2021-10-14T01:13:51.111Z"
   },
   {
    "duration": -306,
    "start_time": "2021-10-14T01:13:53.351Z"
   },
   {
    "duration": 231,
    "start_time": "2021-10-14T01:13:53.151Z"
   },
   {
    "duration": 3,
    "start_time": "2021-10-14T01:14:05.201Z"
   },
   {
    "duration": 1806,
    "start_time": "2021-10-14T01:14:06.002Z"
   },
   {
    "duration": 233,
    "start_time": "2021-10-14T01:14:07.901Z"
   },
   {
    "duration": 242,
    "start_time": "2021-10-14T01:14:09.049Z"
   },
   {
    "duration": 1885,
    "start_time": "2021-10-14T01:14:22.171Z"
   },
   {
    "duration": 86,
    "start_time": "2021-10-14T01:14:56.232Z"
   },
   {
    "duration": 4,
    "start_time": "2021-10-14T01:15:12.841Z"
   },
   {
    "duration": 13,
    "start_time": "2021-10-14T01:15:19.842Z"
   },
   {
    "duration": 434,
    "start_time": "2021-10-14T01:23:17.652Z"
   },
   {
    "duration": 19,
    "start_time": "2021-10-14T01:23:44.853Z"
   },
   {
    "duration": 256,
    "start_time": "2021-10-14T01:25:42.910Z"
   },
   {
    "duration": 18,
    "start_time": "2021-10-14T01:25:49.611Z"
   },
   {
    "duration": 262,
    "start_time": "2021-10-14T01:26:30.081Z"
   },
   {
    "duration": 16,
    "start_time": "2021-10-14T01:26:47.789Z"
   },
   {
    "duration": 18,
    "start_time": "2021-10-14T01:28:17.459Z"
   },
   {
    "duration": 20,
    "start_time": "2021-10-14T01:29:03.920Z"
   },
   {
    "duration": 310,
    "start_time": "2021-10-14T01:29:59.791Z"
   },
   {
    "duration": 6,
    "start_time": "2021-10-14T01:30:12.469Z"
   },
   {
    "duration": 6,
    "start_time": "2021-10-14T01:31:01.241Z"
   },
   {
    "duration": 5,
    "start_time": "2021-10-14T01:32:09.540Z"
   },
   {
    "duration": 4,
    "start_time": "2021-10-14T01:32:17.478Z"
   },
   {
    "duration": 14,
    "start_time": "2021-10-14T01:32:51.533Z"
   },
   {
    "duration": 23,
    "start_time": "2021-10-14T01:33:16.378Z"
   },
   {
    "duration": 6,
    "start_time": "2021-10-14T01:33:43.340Z"
   },
   {
    "duration": 5,
    "start_time": "2021-10-14T01:34:11.601Z"
   },
   {
    "duration": 14,
    "start_time": "2021-10-14T01:34:39.682Z"
   },
   {
    "duration": 14,
    "start_time": "2021-10-14T01:49:15.679Z"
   },
   {
    "duration": 5,
    "start_time": "2021-10-14T01:49:59.782Z"
   },
   {
    "duration": 5,
    "start_time": "2021-10-14T01:50:41.118Z"
   },
   {
    "duration": 18,
    "start_time": "2021-10-14T01:51:03.718Z"
   },
   {
    "duration": 3,
    "start_time": "2021-10-14T01:51:47.483Z"
   },
   {
    "duration": 251,
    "start_time": "2021-10-14T01:52:12.740Z"
   },
   {
    "duration": 13,
    "start_time": "2021-10-14T01:52:28.298Z"
   },
   {
    "duration": 15,
    "start_time": "2021-10-14T01:52:53.991Z"
   },
   {
    "duration": 8,
    "start_time": "2021-10-14T01:53:27.069Z"
   },
   {
    "duration": 302,
    "start_time": "2021-10-14T01:53:55.951Z"
   },
   {
    "duration": 9,
    "start_time": "2021-10-14T01:54:39.434Z"
   },
   {
    "duration": 317,
    "start_time": "2021-10-14T01:55:02.851Z"
   },
   {
    "duration": 10,
    "start_time": "2021-10-14T02:08:55.433Z"
   },
   {
    "duration": 372,
    "start_time": "2021-10-14T02:09:22.169Z"
   },
   {
    "duration": 8,
    "start_time": "2021-10-14T02:10:13.401Z"
   },
   {
    "duration": 164,
    "start_time": "2021-10-14T02:11:43.120Z"
   },
   {
    "duration": 9,
    "start_time": "2021-10-14T02:12:32.960Z"
   },
   {
    "duration": 168,
    "start_time": "2021-10-14T02:12:56.591Z"
   },
   {
    "duration": 32,
    "start_time": "2021-10-14T02:13:50.611Z"
   },
   {
    "duration": 6,
    "start_time": "2021-10-14T02:14:20.052Z"
   },
   {
    "duration": 7,
    "start_time": "2021-10-14T02:14:44.048Z"
   },
   {
    "duration": 14,
    "start_time": "2021-10-14T02:15:07.790Z"
   },
   {
    "duration": 11,
    "start_time": "2021-10-14T02:15:46.591Z"
   },
   {
    "duration": 9,
    "start_time": "2021-10-14T02:16:00.908Z"
   },
   {
    "duration": 14,
    "start_time": "2021-10-14T02:16:23.731Z"
   },
   {
    "duration": 461,
    "start_time": "2021-10-14T02:16:53.108Z"
   },
   {
    "duration": 495,
    "start_time": "2021-10-14T02:17:42.281Z"
   },
   {
    "duration": 551,
    "start_time": "2021-10-14T02:18:22.050Z"
   },
   {
    "duration": 186,
    "start_time": "2021-10-14T02:19:06.220Z"
   },
   {
    "duration": 188,
    "start_time": "2021-10-14T02:19:32.070Z"
   },
   {
    "duration": 9,
    "start_time": "2021-10-14T02:19:51.941Z"
   },
   {
    "duration": 172,
    "start_time": "2021-10-14T02:20:23.620Z"
   },
   {
    "duration": 5,
    "start_time": "2021-10-14T02:20:59.481Z"
   },
   {
    "duration": 6,
    "start_time": "2021-10-14T02:21:17.450Z"
   },
   {
    "duration": 165,
    "start_time": "2021-10-14T02:21:32.280Z"
   },
   {
    "duration": 125,
    "start_time": "2021-10-14T02:22:17.918Z"
   },
   {
    "duration": 192,
    "start_time": "2021-10-14T02:22:35.120Z"
   },
   {
    "duration": 10,
    "start_time": "2021-10-14T02:22:52.468Z"
   },
   {
    "duration": 9,
    "start_time": "2021-10-14T02:23:24.948Z"
   },
   {
    "duration": 15,
    "start_time": "2021-10-14T02:24:00.970Z"
   },
   {
    "duration": 191,
    "start_time": "2021-10-14T02:24:17.650Z"
   },
   {
    "duration": 261,
    "start_time": "2021-10-14T02:25:42.482Z"
   },
   {
    "duration": 16,
    "start_time": "2021-10-14T02:25:58.211Z"
   },
   {
    "duration": 188,
    "start_time": "2021-10-14T02:26:21.760Z"
   },
   {
    "duration": 151,
    "start_time": "2021-10-14T02:27:11.252Z"
   },
   {
    "duration": 461,
    "start_time": "2021-10-14T02:27:58.611Z"
   },
   {
    "duration": 166,
    "start_time": "2021-10-14T02:28:33.988Z"
   },
   {
    "duration": 319,
    "start_time": "2021-10-14T02:29:15.381Z"
   },
   {
    "duration": 200,
    "start_time": "2021-10-14T02:29:44.040Z"
   },
   {
    "duration": 142,
    "start_time": "2021-10-14T02:30:23.850Z"
   },
   {
    "duration": 189,
    "start_time": "2021-10-14T02:30:44.552Z"
   },
   {
    "duration": 124,
    "start_time": "2021-10-14T02:31:20.380Z"
   },
   {
    "duration": 145,
    "start_time": "2021-10-14T02:31:49.852Z"
   },
   {
    "duration": 135,
    "start_time": "2021-10-14T02:32:23.280Z"
   },
   {
    "duration": 147,
    "start_time": "2021-10-14T02:32:48.009Z"
   },
   {
    "duration": 139,
    "start_time": "2021-10-14T02:33:26.721Z"
   },
   {
    "duration": 250,
    "start_time": "2021-10-14T02:33:57.030Z"
   },
   {
    "duration": 3,
    "start_time": "2021-10-14T02:34:17.880Z"
   },
   {
    "duration": 11,
    "start_time": "2021-10-14T02:34:47.008Z"
   },
   {
    "duration": 234,
    "start_time": "2021-10-14T02:35:10.560Z"
   },
   {
    "duration": 323,
    "start_time": "2021-10-14T02:35:53.479Z"
   },
   {
    "duration": 169,
    "start_time": "2021-10-14T02:36:26.388Z"
   },
   {
    "duration": 326,
    "start_time": "2021-10-14T02:37:08.080Z"
   },
   {
    "duration": 177,
    "start_time": "2021-10-14T02:37:30.018Z"
   },
   {
    "duration": 4,
    "start_time": "2021-10-14T02:37:48.960Z"
   },
   {
    "duration": 9,
    "start_time": "2021-10-14T02:38:19.319Z"
   },
   {
    "duration": 167,
    "start_time": "2021-10-14T02:38:47.508Z"
   },
   {
    "duration": 344,
    "start_time": "2021-10-14T02:39:30.891Z"
   },
   {
    "duration": 156,
    "start_time": "2021-10-14T02:39:59.051Z"
   },
   {
    "duration": 371,
    "start_time": "2021-10-14T02:40:43.119Z"
   },
   {
    "duration": 641,
    "start_time": "2021-10-15T07:31:25.962Z"
   },
   {
    "duration": 125,
    "start_time": "2021-10-15T07:31:26.604Z"
   },
   {
    "duration": 5,
    "start_time": "2021-10-15T07:31:26.731Z"
   },
   {
    "duration": 16,
    "start_time": "2021-10-15T07:31:26.737Z"
   },
   {
    "duration": 14,
    "start_time": "2021-10-15T07:31:26.755Z"
   },
   {
    "duration": 37,
    "start_time": "2021-10-15T07:31:26.771Z"
   },
   {
    "duration": 36,
    "start_time": "2021-10-15T07:31:26.810Z"
   },
   {
    "duration": 19,
    "start_time": "2021-10-15T07:31:26.847Z"
   },
   {
    "duration": 21,
    "start_time": "2021-10-15T07:31:26.869Z"
   },
   {
    "duration": 4,
    "start_time": "2021-10-15T07:31:26.892Z"
   },
   {
    "duration": 20,
    "start_time": "2021-10-15T07:31:26.897Z"
   },
   {
    "duration": 39,
    "start_time": "2021-10-15T07:31:26.919Z"
   },
   {
    "duration": 15,
    "start_time": "2021-10-15T07:31:26.959Z"
   },
   {
    "duration": 16,
    "start_time": "2021-10-15T07:31:26.976Z"
   },
   {
    "duration": 6,
    "start_time": "2021-10-15T07:31:26.994Z"
   },
   {
    "duration": 5,
    "start_time": "2021-10-15T07:31:27.001Z"
   },
   {
    "duration": 40,
    "start_time": "2021-10-15T07:31:27.008Z"
   },
   {
    "duration": 15,
    "start_time": "2021-10-15T07:31:27.049Z"
   },
   {
    "duration": 25,
    "start_time": "2021-10-15T07:31:27.066Z"
   },
   {
    "duration": 15,
    "start_time": "2021-10-15T07:31:27.093Z"
   },
   {
    "duration": 12,
    "start_time": "2021-10-15T07:31:27.109Z"
   },
   {
    "duration": 21,
    "start_time": "2021-10-15T07:31:27.123Z"
   },
   {
    "duration": 15,
    "start_time": "2021-10-15T07:31:27.146Z"
   },
   {
    "duration": 5,
    "start_time": "2021-10-15T07:31:27.162Z"
   },
   {
    "duration": 14,
    "start_time": "2021-10-15T07:31:27.168Z"
   },
   {
    "duration": 31,
    "start_time": "2021-10-15T07:31:27.184Z"
   },
   {
    "duration": 3,
    "start_time": "2021-10-15T07:31:27.219Z"
   },
   {
    "duration": 18,
    "start_time": "2021-10-15T07:31:27.224Z"
   },
   {
    "duration": 20,
    "start_time": "2021-10-15T07:31:27.245Z"
   },
   {
    "duration": 19,
    "start_time": "2021-10-15T07:31:27.266Z"
   },
   {
    "duration": 307,
    "start_time": "2021-10-15T07:31:27.287Z"
   },
   {
    "duration": 7,
    "start_time": "2021-10-15T07:31:27.596Z"
   },
   {
    "duration": 342,
    "start_time": "2021-10-15T07:31:27.605Z"
   },
   {
    "duration": 7,
    "start_time": "2021-10-15T07:31:27.949Z"
   },
   {
    "duration": 308,
    "start_time": "2021-10-15T07:31:27.958Z"
   },
   {
    "duration": 7,
    "start_time": "2021-10-15T07:31:28.268Z"
   },
   {
    "duration": 179,
    "start_time": "2021-10-15T07:31:28.277Z"
   },
   {
    "duration": 9,
    "start_time": "2021-10-15T07:31:28.458Z"
   },
   {
    "duration": 177,
    "start_time": "2021-10-15T07:31:28.469Z"
   },
   {
    "duration": 29,
    "start_time": "2021-10-15T07:31:28.648Z"
   },
   {
    "duration": 7,
    "start_time": "2021-10-15T07:31:28.679Z"
   },
   {
    "duration": 21,
    "start_time": "2021-10-15T07:31:28.687Z"
   },
   {
    "duration": 13,
    "start_time": "2021-10-15T07:31:28.710Z"
   },
   {
    "duration": 23,
    "start_time": "2021-10-15T07:31:28.725Z"
   },
   {
    "duration": 15,
    "start_time": "2021-10-15T07:31:28.750Z"
   },
   {
    "duration": 23,
    "start_time": "2021-10-15T07:31:28.767Z"
   },
   {
    "duration": 446,
    "start_time": "2021-10-15T07:31:28.792Z"
   },
   {
    "duration": 466,
    "start_time": "2021-10-15T07:31:29.240Z"
   },
   {
    "duration": 540,
    "start_time": "2021-10-15T07:31:29.708Z"
   },
   {
    "duration": 194,
    "start_time": "2021-10-15T07:31:30.250Z"
   },
   {
    "duration": 209,
    "start_time": "2021-10-15T07:31:30.446Z"
   },
   {
    "duration": 8,
    "start_time": "2021-10-15T07:31:30.657Z"
   },
   {
    "duration": 183,
    "start_time": "2021-10-15T07:31:30.667Z"
   },
   {
    "duration": 4,
    "start_time": "2021-10-15T07:31:30.852Z"
   },
   {
    "duration": 25,
    "start_time": "2021-10-15T07:31:30.858Z"
   },
   {
    "duration": 185,
    "start_time": "2021-10-15T07:31:30.885Z"
   },
   {
    "duration": 132,
    "start_time": "2021-10-15T07:31:31.072Z"
   },
   {
    "duration": 181,
    "start_time": "2021-10-15T07:31:31.206Z"
   },
   {
    "duration": 9,
    "start_time": "2021-10-15T07:31:31.388Z"
   },
   {
    "duration": 23,
    "start_time": "2021-10-15T07:31:31.398Z"
   },
   {
    "duration": 14,
    "start_time": "2021-10-15T07:31:31.423Z"
   },
   {
    "duration": 184,
    "start_time": "2021-10-15T07:31:31.439Z"
   },
   {
    "duration": 23,
    "start_time": "2021-10-15T07:31:31.624Z"
   },
   {
    "duration": 187,
    "start_time": "2021-10-15T07:31:31.649Z"
   },
   {
    "duration": 216,
    "start_time": "2021-10-15T07:31:31.838Z"
   },
   {
    "duration": 360,
    "start_time": "2021-10-15T07:31:32.055Z"
   },
   {
    "duration": 156,
    "start_time": "2021-10-15T07:31:32.416Z"
   },
   {
    "duration": 339,
    "start_time": "2021-10-15T07:31:32.574Z"
   },
   {
    "duration": 186,
    "start_time": "2021-10-15T07:31:32.915Z"
   },
   {
    "duration": 124,
    "start_time": "2021-10-15T07:31:33.103Z"
   },
   {
    "duration": 193,
    "start_time": "2021-10-15T07:31:33.229Z"
   },
   {
    "duration": 125,
    "start_time": "2021-10-15T07:31:33.423Z"
   },
   {
    "duration": 141,
    "start_time": "2021-10-15T07:31:33.550Z"
   },
   {
    "duration": 137,
    "start_time": "2021-10-15T07:31:33.693Z"
   },
   {
    "duration": 158,
    "start_time": "2021-10-15T07:31:33.832Z"
   },
   {
    "duration": 185,
    "start_time": "2021-10-15T07:31:33.991Z"
   },
   {
    "duration": 181,
    "start_time": "2021-10-15T07:31:34.178Z"
   },
   {
    "duration": 4,
    "start_time": "2021-10-15T07:31:34.365Z"
   },
   {
    "duration": 20,
    "start_time": "2021-10-15T07:31:34.370Z"
   },
   {
    "duration": 189,
    "start_time": "2021-10-15T07:31:34.391Z"
   },
   {
    "duration": 362,
    "start_time": "2021-10-15T07:31:34.585Z"
   },
   {
    "duration": 167,
    "start_time": "2021-10-15T07:31:34.949Z"
   },
   {
    "duration": 381,
    "start_time": "2021-10-15T07:31:35.118Z"
   },
   {
    "duration": 173,
    "start_time": "2021-10-15T07:31:35.500Z"
   },
   {
    "duration": 3,
    "start_time": "2021-10-15T07:31:35.674Z"
   },
   {
    "duration": 12,
    "start_time": "2021-10-15T07:31:35.679Z"
   },
   {
    "duration": 172,
    "start_time": "2021-10-15T07:31:35.693Z"
   },
   {
    "duration": 331,
    "start_time": "2021-10-15T07:31:35.867Z"
   },
   {
    "duration": 150,
    "start_time": "2021-10-15T07:31:36.200Z"
   },
   {
    "duration": 334,
    "start_time": "2021-10-15T07:31:36.352Z"
   },
   {
    "duration": 310,
    "start_time": "2021-10-15T18:40:03.571Z"
   },
   {
    "duration": 107,
    "start_time": "2021-10-15T18:40:10.653Z"
   },
   {
    "duration": 259,
    "start_time": "2021-10-15T18:40:31.612Z"
   },
   {
    "duration": 621,
    "start_time": "2021-10-15T18:40:40.093Z"
   },
   {
    "duration": 259,
    "start_time": "2021-10-15T18:41:14.052Z"
   },
   {
    "duration": 887,
    "start_time": "2021-10-15T18:42:01.293Z"
   },
   {
    "duration": 115,
    "start_time": "2021-10-15T18:42:02.182Z"
   },
   {
    "duration": 7,
    "start_time": "2021-10-15T18:42:03.191Z"
   },
   {
    "duration": 23,
    "start_time": "2021-10-15T18:42:03.760Z"
   },
   {
    "duration": 23,
    "start_time": "2021-10-15T18:42:04.352Z"
   },
   {
    "duration": 56,
    "start_time": "2021-10-15T18:42:05.609Z"
   },
   {
    "duration": 26,
    "start_time": "2021-10-15T18:42:06.571Z"
   },
   {
    "duration": 29,
    "start_time": "2021-10-15T18:42:09.775Z"
   },
   {
    "duration": 21,
    "start_time": "2021-10-15T18:42:12.201Z"
   },
   {
    "duration": 9,
    "start_time": "2021-10-15T18:42:13.483Z"
   },
   {
    "duration": 25,
    "start_time": "2021-10-15T18:42:20.321Z"
   },
   {
    "duration": 33458,
    "start_time": "2021-10-15T18:51:13.064Z"
   },
   {
    "duration": 12,
    "start_time": "2021-10-15T18:52:02.319Z"
   },
   {
    "duration": 17,
    "start_time": "2021-10-15T18:52:30.215Z"
   },
   {
    "duration": 9,
    "start_time": "2021-10-15T18:52:58.808Z"
   },
   {
    "duration": 7,
    "start_time": "2021-10-15T18:53:47.495Z"
   },
   {
    "duration": 15,
    "start_time": "2021-10-15T18:58:13.656Z"
   },
   {
    "duration": 823,
    "start_time": "2021-10-15T21:47:15.514Z"
   },
   {
    "duration": 300,
    "start_time": "2021-10-15T21:47:16.340Z"
   },
   {
    "duration": 9,
    "start_time": "2021-10-15T21:47:16.643Z"
   },
   {
    "duration": 30,
    "start_time": "2021-10-15T21:47:16.655Z"
   },
   {
    "duration": 21,
    "start_time": "2021-10-15T21:47:16.687Z"
   },
   {
    "duration": 49,
    "start_time": "2021-10-15T21:47:16.710Z"
   },
   {
    "duration": 25,
    "start_time": "2021-10-15T21:47:16.783Z"
   },
   {
    "duration": 28,
    "start_time": "2021-10-15T21:47:16.812Z"
   },
   {
    "duration": 45,
    "start_time": "2021-10-15T21:47:16.843Z"
   },
   {
    "duration": 8,
    "start_time": "2021-10-15T21:47:16.891Z"
   },
   {
    "duration": 32270,
    "start_time": "2021-10-15T21:47:16.902Z"
   },
   {
    "duration": 12,
    "start_time": "2021-10-15T21:47:49.182Z"
   },
   {
    "duration": 14,
    "start_time": "2021-10-15T21:47:49.196Z"
   },
   {
    "duration": 15,
    "start_time": "2021-10-15T21:47:49.212Z"
   },
   {
    "duration": 10,
    "start_time": "2021-10-15T21:47:49.229Z"
   },
   {
    "duration": 43,
    "start_time": "2021-10-15T21:47:49.241Z"
   },
   {
    "duration": 7,
    "start_time": "2021-10-15T21:47:49.286Z"
   },
   {
    "duration": 16,
    "start_time": "2021-10-15T21:47:49.295Z"
   },
   {
    "duration": 29,
    "start_time": "2021-10-15T21:47:49.313Z"
   },
   {
    "duration": 43,
    "start_time": "2021-10-15T21:47:49.345Z"
   },
   {
    "duration": 7,
    "start_time": "2021-10-15T21:47:49.391Z"
   },
   {
    "duration": 29,
    "start_time": "2021-10-15T21:47:49.400Z"
   },
   {
    "duration": 56,
    "start_time": "2021-10-15T21:47:49.435Z"
   },
   {
    "duration": 6,
    "start_time": "2021-10-15T21:47:49.496Z"
   },
   {
    "duration": 8,
    "start_time": "2021-10-15T21:47:49.505Z"
   },
   {
    "duration": 34,
    "start_time": "2021-10-15T21:47:49.515Z"
   },
   {
    "duration": 35,
    "start_time": "2021-10-15T21:47:49.552Z"
   },
   {
    "duration": 37,
    "start_time": "2021-10-15T21:47:49.590Z"
   },
   {
    "duration": 23,
    "start_time": "2021-10-15T21:47:49.630Z"
   },
   {
    "duration": 11,
    "start_time": "2021-10-15T21:47:49.683Z"
   },
   {
    "duration": 568,
    "start_time": "2021-10-15T21:47:49.696Z"
   },
   {
    "duration": 20,
    "start_time": "2021-10-15T21:47:50.267Z"
   },
   {
    "duration": 650,
    "start_time": "2021-10-15T21:47:50.290Z"
   },
   {
    "duration": 12,
    "start_time": "2021-10-15T21:47:50.942Z"
   },
   {
    "duration": 558,
    "start_time": "2021-10-15T21:47:50.956Z"
   },
   {
    "duration": 12,
    "start_time": "2021-10-15T21:47:51.516Z"
   },
   {
    "duration": 303,
    "start_time": "2021-10-15T21:47:51.530Z"
   },
   {
    "duration": 11,
    "start_time": "2021-10-15T21:47:51.836Z"
   },
   {
    "duration": 284,
    "start_time": "2021-10-15T21:47:51.850Z"
   },
   {
    "duration": 57,
    "start_time": "2021-10-15T21:47:52.136Z"
   },
   {
    "duration": 8,
    "start_time": "2021-10-15T21:47:52.196Z"
   },
   {
    "duration": 8,
    "start_time": "2021-10-15T21:47:52.207Z"
   },
   {
    "duration": 23,
    "start_time": "2021-10-15T21:47:52.218Z"
   },
   {
    "duration": 60,
    "start_time": "2021-10-15T21:47:52.244Z"
   },
   {
    "duration": 12,
    "start_time": "2021-10-15T21:47:52.307Z"
   },
   {
    "duration": 30,
    "start_time": "2021-10-15T21:47:52.321Z"
   },
   {
    "duration": 823,
    "start_time": "2021-10-15T21:47:52.382Z"
   },
   {
    "duration": 805,
    "start_time": "2021-10-15T21:47:53.208Z"
   },
   {
    "duration": 883,
    "start_time": "2021-10-15T21:47:54.016Z"
   },
   {
    "duration": 434,
    "start_time": "2021-10-15T21:47:54.901Z"
   },
   {
    "duration": 311,
    "start_time": "2021-10-15T21:47:55.337Z"
   },
   {
    "duration": 11,
    "start_time": "2021-10-15T21:47:55.651Z"
   },
   {
    "duration": 318,
    "start_time": "2021-10-15T21:47:55.665Z"
   },
   {
    "duration": 5,
    "start_time": "2021-10-15T21:47:55.985Z"
   },
   {
    "duration": 10,
    "start_time": "2021-10-15T21:47:55.993Z"
   },
   {
    "duration": 307,
    "start_time": "2021-10-15T21:47:56.005Z"
   },
   {
    "duration": 230,
    "start_time": "2021-10-15T21:47:56.315Z"
   },
   {
    "duration": 408,
    "start_time": "2021-10-15T21:47:56.549Z"
   },
   {
    "duration": 24,
    "start_time": "2021-10-15T21:47:56.960Z"
   },
   {
    "duration": 14,
    "start_time": "2021-10-15T21:47:56.986Z"
   },
   {
    "duration": 21,
    "start_time": "2021-10-15T21:47:57.003Z"
   },
   {
    "duration": 326,
    "start_time": "2021-10-15T21:47:57.026Z"
   },
   {
    "duration": 41,
    "start_time": "2021-10-15T21:47:57.355Z"
   },
   {
    "duration": 326,
    "start_time": "2021-10-15T21:47:57.399Z"
   },
   {
    "duration": 360,
    "start_time": "2021-10-15T21:47:57.728Z"
   },
   {
    "duration": 537,
    "start_time": "2021-10-15T21:47:58.090Z"
   },
   {
    "duration": 261,
    "start_time": "2021-10-15T21:47:58.629Z"
   },
   {
    "duration": 536,
    "start_time": "2021-10-15T21:47:58.898Z"
   },
   {
    "duration": 326,
    "start_time": "2021-10-15T21:47:59.437Z"
   },
   {
    "duration": 226,
    "start_time": "2021-10-15T21:47:59.766Z"
   },
   {
    "duration": 351,
    "start_time": "2021-10-15T21:47:59.994Z"
   },
   {
    "duration": 220,
    "start_time": "2021-10-15T21:48:00.348Z"
   },
   {
    "duration": 248,
    "start_time": "2021-10-15T21:48:00.571Z"
   },
   {
    "duration": 241,
    "start_time": "2021-10-15T21:48:00.821Z"
   },
   {
    "duration": 263,
    "start_time": "2021-10-15T21:48:01.065Z"
   },
   {
    "duration": 282,
    "start_time": "2021-10-15T21:48:01.331Z"
   },
   {
    "duration": 293,
    "start_time": "2021-10-15T21:48:01.615Z"
   },
   {
    "duration": 5,
    "start_time": "2021-10-15T21:48:01.910Z"
   },
   {
    "duration": 29,
    "start_time": "2021-10-15T21:48:01.917Z"
   },
   {
    "duration": 294,
    "start_time": "2021-10-15T21:48:01.948Z"
   },
   {
    "duration": 562,
    "start_time": "2021-10-15T21:48:02.245Z"
   },
   {
    "duration": 344,
    "start_time": "2021-10-15T21:48:02.810Z"
   },
   {
    "duration": 594,
    "start_time": "2021-10-15T21:48:03.157Z"
   },
   {
    "duration": 314,
    "start_time": "2021-10-15T21:48:03.753Z"
   },
   {
    "duration": 14,
    "start_time": "2021-10-15T21:48:04.069Z"
   },
   {
    "duration": 20,
    "start_time": "2021-10-15T21:48:04.085Z"
   },
   {
    "duration": 247,
    "start_time": "2021-10-15T21:48:04.108Z"
   },
   {
    "duration": 574,
    "start_time": "2021-10-15T21:48:04.358Z"
   },
   {
    "duration": 302,
    "start_time": "2021-10-15T21:48:04.935Z"
   },
   {
    "duration": 576,
    "start_time": "2021-10-15T21:48:05.240Z"
   },
   {
    "duration": 376,
    "start_time": "2021-10-15T21:48:05.818Z"
   },
   {
    "duration": 278,
    "start_time": "2021-10-15T21:48:45.305Z"
   },
   {
    "duration": 252,
    "start_time": "2021-10-15T21:48:49.531Z"
   },
   {
    "duration": 54,
    "start_time": "2021-10-15T21:48:56.133Z"
   },
   {
    "duration": 492,
    "start_time": "2021-10-15T23:02:07.470Z"
   },
   {
    "duration": 862,
    "start_time": "2021-10-15T23:02:15.086Z"
   },
   {
    "duration": 112,
    "start_time": "2021-10-15T23:02:15.951Z"
   },
   {
    "duration": 7,
    "start_time": "2021-10-15T23:02:16.066Z"
   },
   {
    "duration": 31,
    "start_time": "2021-10-15T23:02:16.075Z"
   },
   {
    "duration": 21,
    "start_time": "2021-10-15T23:02:16.108Z"
   },
   {
    "duration": 72,
    "start_time": "2021-10-15T23:02:16.132Z"
   },
   {
    "duration": 25,
    "start_time": "2021-10-15T23:02:16.206Z"
   },
   {
    "duration": 50,
    "start_time": "2021-10-15T23:02:16.234Z"
   },
   {
    "duration": 22,
    "start_time": "2021-10-15T23:02:16.561Z"
   },
   {
    "duration": 7,
    "start_time": "2021-10-15T23:02:17.071Z"
   },
   {
    "duration": 33672,
    "start_time": "2021-10-15T23:02:19.118Z"
   },
   {
    "duration": 14,
    "start_time": "2021-10-15T23:02:52.794Z"
   },
   {
    "duration": 46,
    "start_time": "2021-10-15T23:02:52.812Z"
   },
   {
    "duration": 16,
    "start_time": "2021-10-15T23:02:52.861Z"
   },
   {
    "duration": 10,
    "start_time": "2021-10-15T23:02:52.879Z"
   },
   {
    "duration": 7,
    "start_time": "2021-10-15T23:02:52.892Z"
   },
   {
    "duration": 8,
    "start_time": "2021-10-15T23:02:52.901Z"
   },
   {
    "duration": 57,
    "start_time": "2021-10-15T23:02:52.913Z"
   },
   {
    "duration": 30,
    "start_time": "2021-10-15T23:02:52.972Z"
   },
   {
    "duration": 6,
    "start_time": "2021-10-15T23:02:53.005Z"
   },
   {
    "duration": 8,
    "start_time": "2021-10-15T23:02:53.013Z"
   },
   {
    "duration": 55,
    "start_time": "2021-10-15T23:02:53.023Z"
   },
   {
    "duration": -1356,
    "start_time": "2021-10-15T23:02:54.872Z"
   }
  ],
  "kernelspec": {
   "display_name": "Python 3",
   "language": "python",
   "name": "python3"
  },
  "language_info": {
   "codemirror_mode": {
    "name": "ipython",
    "version": 3
   },
   "file_extension": ".py",
   "mimetype": "text/x-python",
   "name": "python",
   "nbconvert_exporter": "python",
   "pygments_lexer": "ipython3",
   "version": "3.7.8"
  },
  "toc": {
   "base_numbering": 1,
   "nav_menu": {},
   "number_sections": true,
   "sideBar": true,
   "skip_h1_title": true,
   "title_cell": "Table of Contents",
   "title_sidebar": "Contents",
   "toc_cell": false,
   "toc_position": {},
   "toc_section_display": true,
   "toc_window_display": false
  }
 },
 "nbformat": 4,
 "nbformat_minor": 2
}
